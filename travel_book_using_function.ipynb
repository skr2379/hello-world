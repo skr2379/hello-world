{
  "nbformat": 4,
  "nbformat_minor": 0,
  "metadata": {
    "colab": {
      "name": "travel_book_using_function.ipynb",
      "provenance": []
    },
    "kernelspec": {
      "name": "python3",
      "display_name": "Python 3"
    },
    "language_info": {
      "name": "python"
    }
  },
  "cells": [
    {
      "cell_type": "markdown",
      "metadata": {
        "id": "GgxX6w9HkE7S"
      },
      "source": [
        "Travel book "
      ]
    },
    {
      "cell_type": "code",
      "metadata": {
        "id": "aj-0GZ4-bSdU"
      },
      "source": [
        "travel_log = {'india':{'city_visited':['jaipur','hyderabad','kurukshetra','delhi'],'total_visit':5},\n",
        "              'pakistan':{'city_visited':['multan','peshawer','karachi','lahore'],'total_visit':10},\n",
        "              'australia':{'city_visited':['perth','sydney','melbourne'],'total_visit':15}}"
      ],
      "execution_count": 96,
      "outputs": []
    },
    {
      "cell_type": "code",
      "metadata": {
        "id": "EZBHidlvkLnv"
      },
      "source": [
        "def travel_book():\n",
        "  count = 0\n",
        "  country_visited = []\n",
        "\n",
        "  for key in travel_log:\n",
        "    count += 1\n",
        "    country_visited.append(key)\n",
        "\n",
        "  print(\"total countries visited :\",count)\n",
        "  print(\"\\nname of countries visited :\",country_visited)\n",
        "\n",
        "  for i in range(len(country_visited)):\n",
        "    print(\"\\ndetail of :\", country_visited[i])\n",
        "    print(f\"city visited in, {country_visited[i]} : {travel_log[country_visited[i]]['city_visited']}\")\n",
        "    print(f\"total visit to {country_visited[i]} : {travel_log[country_visited[i]]['total_visit']}\")"
      ],
      "execution_count": 97,
      "outputs": []
    },
    {
      "cell_type": "code",
      "metadata": {
        "id": "TPs9EKi5m_Do"
      },
      "source": [
        "def update_travel_log(country, city_visited, total_visits):\n",
        "  travel_log[country] = {'city_visited' : city_visited, 'total_visit' : total_visits}\n",
        "  "
      ],
      "execution_count": 98,
      "outputs": []
    },
    {
      "cell_type": "code",
      "metadata": {
        "colab": {
          "base_uri": "https://localhost:8080/"
        },
        "id": "VFZlzuwb4QZ7",
        "outputId": "8ee8df6c-9c71-4ab3-8617-ef6b2b23b229"
      },
      "source": [
        "print(\"------------------welcome to travel log record---------------------------------------\")\n",
        "choice = input(\"do you want to update travel book : y/n\\t\")\n",
        "if choice == 'y':\n",
        "  country = input(\"enter name of country you want to add:\\t\")\n",
        "  city = input(\"enter name of cities you visit,please seprated by comma:\\t\")\n",
        "  city_visited = city.split(',')\n",
        "  total_visit = int(input(\"how many time you visit there\"))\n",
        "  print(\"---------------thanks for the information----------------------\")\n",
        "  print(\"-----------------here is your travel log book-------------------\")\n",
        "  update_travel_log(country, city_visited, total_visit)\n",
        "else:\n",
        "  pass\n",
        "\n",
        "travel_book()"
      ],
      "execution_count": 101,
      "outputs": [
        {
          "output_type": "stream",
          "name": "stdout",
          "text": [
            "------------------welcome to travel log record---------------------------------------\n",
            "do you want to update travel book : y/n\tn\n",
            "total countries visited : 4\n",
            "\n",
            "name of countries visited : ['india', 'pakistan', 'australia', 'america']\n",
            "\n",
            "detail of : india\n",
            "city visited in, india : ['jaipur', 'hyderabad', 'kurukshetra', 'delhi']\n",
            "total visit to india : 5\n",
            "\n",
            "detail of : pakistan\n",
            "city visited in, pakistan : ['multan', 'peshawer', 'karachi', 'lahore']\n",
            "total visit to pakistan : 10\n",
            "\n",
            "detail of : australia\n",
            "city visited in, australia : ['perth', 'sydney', 'melbourne']\n",
            "total visit to australia : 15\n",
            "\n",
            "detail of : america\n",
            "city visited in, america : ['la', 'ny', 'california', 'washington', 'dd']\n",
            "total visit to america : 8\n"
          ]
        }
      ]
    },
    {
      "cell_type": "code",
      "metadata": {
        "id": "8uz9qSRQ5DAm"
      },
      "source": [
        ""
      ],
      "execution_count": null,
      "outputs": []
    }
  ]
}