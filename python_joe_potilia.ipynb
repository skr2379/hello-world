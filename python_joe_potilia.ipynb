{
 "cells": [
  {
   "cell_type": "code",
   "execution_count": 2,
   "id": "b3532ca2",
   "metadata": {},
   "outputs": [
    {
     "data": {
      "text/plain": [
       "'my name is sunil'"
      ]
     },
     "execution_count": 2,
     "metadata": {},
     "output_type": "execute_result"
    }
   ],
   "source": [
    "name='sunil'\n",
    "'my name is '+ name"
   ]
  },
  {
   "cell_type": "code",
   "execution_count": 4,
   "id": "e8ccc23b",
   "metadata": {},
   "outputs": [
    {
     "data": {
      "text/plain": [
       "'my name is sunil'"
      ]
     },
     "execution_count": 4,
     "metadata": {},
     "output_type": "execute_result"
    }
   ],
   "source": [
    "f'my name is {name}'"
   ]
  },
  {
   "cell_type": "code",
   "execution_count": 8,
   "id": "95e2d626",
   "metadata": {},
   "outputs": [
    {
     "name": "stdout",
     "output_type": "stream",
     "text": [
      "i am inserting some text here\n"
     ]
    }
   ],
   "source": [
    "print('i am inserting %s text here'%'some')"
   ]
  },
  {
   "cell_type": "code",
   "execution_count": 9,
   "id": "f19e658f",
   "metadata": {},
   "outputs": [
    {
     "name": "stdout",
     "output_type": "stream",
     "text": [
      "i am inserting some text here and more text here\n"
     ]
    }
   ],
   "source": [
    "print(\"i am inserting %s text here and %s text here\"%('some','more'))"
   ]
  },
  {
   "cell_type": "code",
   "execution_count": 10,
   "id": "2cd4bbcc",
   "metadata": {},
   "outputs": [
    {
     "name": "stdout",
     "output_type": "stream",
     "text": [
      "i am sunil and i am in edp deptt\n"
     ]
    }
   ],
   "source": [
    "x='sunil'\n",
    "y='edp'\n",
    "print(\"i am %s and i am in %s deptt\"%(x,y))"
   ]
  },
  {
   "cell_type": "code",
   "execution_count": 11,
   "id": "fc3f4cd4",
   "metadata": {},
   "outputs": [
    {
     "name": "stdout",
     "output_type": "stream",
     "text": [
      "his name is 'the great khali'\n"
     ]
    }
   ],
   "source": [
    "print(\"his name is %r\"%'the great khali')"
   ]
  },
  {
   "cell_type": "code",
   "execution_count": 14,
   "id": "49de23cc",
   "metadata": {},
   "outputs": [
    {
     "name": "stdout",
     "output_type": "stream",
     "text": [
      "i am sunil\tkumar\n"
     ]
    }
   ],
   "source": [
    "print('i am %s'%'sunil\\tkumar')"
   ]
  },
  {
   "cell_type": "code",
   "execution_count": 15,
   "id": "b3e233ef",
   "metadata": {},
   "outputs": [
    {
     "name": "stdout",
     "output_type": "stream",
     "text": [
      "the value is 3.75\n",
      "the value is 3\n"
     ]
    }
   ],
   "source": [
    "print(\"the value is %s\"%3.75)\n",
    "print(\"the value is %d\"%3.75)"
   ]
  },
  {
   "cell_type": "code",
   "execution_count": 23,
   "id": "2bb7da02",
   "metadata": {},
   "outputs": [
    {
     "name": "stdout",
     "output_type": "stream",
     "text": [
      "floating no is 13\n"
     ]
    }
   ],
   "source": [
    "print(\"floating no is %1.0f\"%13)"
   ]
  },
  {
   "cell_type": "code",
   "execution_count": 35,
   "id": "512f5f53",
   "metadata": {},
   "outputs": [
    {
     "name": "stdout",
     "output_type": "stream",
     "text": [
      "fruit           | quantity  \n",
      "apple           | 3         \n",
      "banana          | 10        \n",
      "blackberry      | 10        \n"
     ]
    }
   ],
   "source": [
    "print('{0:15} | {1:10}'.format('fruit','quantity'))\n",
    "print('{0:15} | {1:10}'.format('apple','3'))\n",
    "print('{0:15} | {1:10}'.format('banana','10'))\n",
    "print('{0:15} | {1:10}'.format('blackberry','10'))"
   ]
  },
  {
   "cell_type": "code",
   "execution_count": 31,
   "id": "484ef97a",
   "metadata": {},
   "outputs": [
    {
     "name": "stdout",
     "output_type": "stream",
     "text": [
      "Fruit    | Quantity \n",
      "Apples   |       3.0\n",
      "Oranges  |        10\n"
     ]
    }
   ],
   "source": [
    "print('{0:8} | {1:9}'.format('Fruit', 'Quantity'))\n",
    "print('{0:8} | {1:9}'.format('Apples', 3.))\n",
    "print('{0:8} | {1:9}'.format('Oranges', 10))"
   ]
  },
  {
   "cell_type": "code",
   "execution_count": 7,
   "id": "a2a41893",
   "metadata": {},
   "outputs": [
    {
     "name": "stdout",
     "output_type": "stream",
     "text": [
      "|left    | center |===right|\n",
      "|10======|---11---|......12|\n"
     ]
    }
   ],
   "source": [
    "print('|{0:<8}|{1:^8}|{2:=>8}|'.format('left','center','right'))\n",
    "print('|{0:=<8}|{1:-^8}|{2:.>8}|'.format('10','11','12'))"
   ]
  },
  {
   "cell_type": "code",
   "execution_count": 1,
   "id": "733117a6",
   "metadata": {},
   "outputs": [
    {
     "name": "stdout",
     "output_type": "stream",
     "text": [
      "Writing myfile.txt\n"
     ]
    }
   ],
   "source": [
    "%%writefile myfile.txt\n",
    "hello this is a text file\n",
    "this is second line\n",
    "this is a third line"
   ]
  },
  {
   "cell_type": "code",
   "execution_count": 2,
   "id": "4b5782d7",
   "metadata": {},
   "outputs": [],
   "source": [
    "myfile=open('myfile.txt')"
   ]
  },
  {
   "cell_type": "code",
   "execution_count": 3,
   "id": "dd5ef046",
   "metadata": {},
   "outputs": [
    {
     "data": {
      "text/plain": [
       "<_io.TextIOWrapper name='myfile.txt' mode='r' encoding='cp1252'>"
      ]
     },
     "execution_count": 3,
     "metadata": {},
     "output_type": "execute_result"
    }
   ],
   "source": [
    "myfile"
   ]
  },
  {
   "cell_type": "code",
   "execution_count": 4,
   "id": "4c972f91",
   "metadata": {},
   "outputs": [
    {
     "data": {
      "text/plain": [
       "'C:\\\\Users\\\\sunil'"
      ]
     },
     "execution_count": 4,
     "metadata": {},
     "output_type": "execute_result"
    }
   ],
   "source": [
    "pwd"
   ]
  },
  {
   "cell_type": "code",
   "execution_count": 5,
   "id": "39471444",
   "metadata": {},
   "outputs": [
    {
     "data": {
      "text/plain": [
       "'hello this is a text file\\nthis is second line\\nthis is a third line\\n'"
      ]
     },
     "execution_count": 5,
     "metadata": {},
     "output_type": "execute_result"
    }
   ],
   "source": [
    "myfile.read()"
   ]
  },
  {
   "cell_type": "code",
   "execution_count": 6,
   "id": "5efe1547",
   "metadata": {},
   "outputs": [
    {
     "data": {
      "text/plain": [
       "''"
      ]
     },
     "execution_count": 6,
     "metadata": {},
     "output_type": "execute_result"
    }
   ],
   "source": [
    "myfile.read()"
   ]
  },
  {
   "cell_type": "code",
   "execution_count": 10,
   "id": "6cf97c08",
   "metadata": {},
   "outputs": [
    {
     "data": {
      "text/plain": [
       "0"
      ]
     },
     "execution_count": 10,
     "metadata": {},
     "output_type": "execute_result"
    }
   ],
   "source": [
    "myfile.seek(0)"
   ]
  },
  {
   "cell_type": "code",
   "execution_count": 8,
   "id": "1be4f5a9",
   "metadata": {},
   "outputs": [
    {
     "data": {
      "text/plain": [
       "'hello this is a text file\\nthis is second line\\nthis is a third line\\n'"
      ]
     },
     "execution_count": 8,
     "metadata": {},
     "output_type": "execute_result"
    }
   ],
   "source": [
    "myfile.read()"
   ]
  },
  {
   "cell_type": "code",
   "execution_count": 11,
   "id": "a8bb4cb7",
   "metadata": {},
   "outputs": [
    {
     "data": {
      "text/plain": [
       "['hello this is a text file\\n',\n",
       " 'this is second line\\n',\n",
       " 'this is a third line\\n']"
      ]
     },
     "execution_count": 11,
     "metadata": {},
     "output_type": "execute_result"
    }
   ],
   "source": [
    "myfile.readlines()"
   ]
  },
  {
   "cell_type": "code",
   "execution_count": 13,
   "id": "754417e6",
   "metadata": {},
   "outputs": [],
   "source": [
    "myfile=open(r\"C:\\Users\\sunil\\Desktop\\test.txt\")"
   ]
  },
  {
   "cell_type": "code",
   "execution_count": 14,
   "id": "a480b585",
   "metadata": {},
   "outputs": [
    {
     "data": {
      "text/plain": [
       "'dgdgdg\\ndgdgfd\\nfdgfdgd\\ndgdfg'"
      ]
     },
     "execution_count": 14,
     "metadata": {},
     "output_type": "execute_result"
    }
   ],
   "source": [
    "myfile.read()"
   ]
  },
  {
   "cell_type": "code",
   "execution_count": 16,
   "id": "673a42cb",
   "metadata": {},
   "outputs": [],
   "source": [
    "with open('myfile.txt') as my_file:\n",
    "    content=my_file.read()"
   ]
  },
  {
   "cell_type": "code",
   "execution_count": 17,
   "id": "98369100",
   "metadata": {},
   "outputs": [
    {
     "data": {
      "text/plain": [
       "'hello this is a text file\\nthis is second line\\nthis is a third line\\n'"
      ]
     },
     "execution_count": 17,
     "metadata": {},
     "output_type": "execute_result"
    }
   ],
   "source": [
    "content"
   ]
  },
  {
   "cell_type": "code",
   "execution_count": 21,
   "id": "41d091bb",
   "metadata": {},
   "outputs": [
    {
     "name": "stdout",
     "output_type": "stream",
     "text": [
      "Overwriting my_new_file.text\n"
     ]
    }
   ],
   "source": [
    "%%writefile my_new_file.text\n",
    "one on first\n",
    "two on second\n",
    "three on third\n",
    "four on fourth"
   ]
  },
  {
   "cell_type": "code",
   "execution_count": 25,
   "id": "16d51b23",
   "metadata": {},
   "outputs": [
    {
     "name": "stdout",
     "output_type": "stream",
     "text": [
      "one on first\n",
      "two on second\n",
      "three on third\n",
      "four on fourth\n",
      "\n"
     ]
    }
   ],
   "source": [
    "with open('my_new_file.text',mode='r') as f:\n",
    "    print(f.read())"
   ]
  },
  {
   "cell_type": "code",
   "execution_count": 26,
   "id": "f4ea682e",
   "metadata": {},
   "outputs": [
    {
     "data": {
      "text/plain": [
       "'one on first\\ntwo on second\\nthree on third\\nfour on fourth\\n'"
      ]
     },
     "execution_count": 26,
     "metadata": {},
     "output_type": "execute_result"
    }
   ],
   "source": [
    "content"
   ]
  },
  {
   "cell_type": "code",
   "execution_count": 33,
   "id": "8b7623d2",
   "metadata": {},
   "outputs": [],
   "source": [
    "with open('my_new_file.text',mode='a') as f:\n",
    "    f.write('\\nfive on fifth')"
   ]
  },
  {
   "cell_type": "code",
   "execution_count": 34,
   "id": "7854307d",
   "metadata": {},
   "outputs": [
    {
     "name": "stdout",
     "output_type": "stream",
     "text": [
      "one on first\n",
      "two on second\n",
      "three on third\n",
      "four on fourth\n",
      "five on fifthfive on fifth\n",
      "five on fifth\n"
     ]
    }
   ],
   "source": [
    "with open('my_new_file.text',mode='r') as f:\n",
    "    print(f.read())"
   ]
  },
  {
   "cell_type": "code",
   "execution_count": 31,
   "id": "03bb618e",
   "metadata": {},
   "outputs": [
    {
     "data": {
      "text/plain": [
       "'one on first\\ntwo on second\\nthree on third\\nfour on fourth\\nfive on fifthfive on fifth'"
      ]
     },
     "execution_count": 31,
     "metadata": {},
     "output_type": "execute_result"
    }
   ],
   "source": [
    "content"
   ]
  },
  {
   "cell_type": "code",
   "execution_count": 35,
   "id": "5601087d",
   "metadata": {},
   "outputs": [
    {
     "name": "stdout",
     "output_type": "stream",
     "text": [
      "true\n"
     ]
    }
   ],
   "source": [
    "hungry=True\n",
    "if hungry:\n",
    "    print('feed me')"
   ]
  },
  {
   "cell_type": "markdown",
   "id": "2b3e6439",
   "metadata": {},
   "source": [
    "### open source class practice"
   ]
  },
  {
   "cell_type": "code",
   "execution_count": 21,
   "id": "9bfe26db",
   "metadata": {},
   "outputs": [],
   "source": [
    "class Dog:\n",
    "    \"\"\"a simple attempt to model a dog\"\"\"\n",
    "    def __init__(self,name,age):\n",
    "        \n",
    "        self.name=name\n",
    "        self.age=age\n",
    "    def sit(self):\n",
    "        \n",
    "        print(f\"{self.name} is sitting\")\n",
    "    def roll_over(self):\n",
    "        print(f\"{self.name} can roll\")"
   ]
  },
  {
   "cell_type": "code",
   "execution_count": 22,
   "id": "7b72178f",
   "metadata": {},
   "outputs": [],
   "source": [
    "my_dog=Dog(\"willie\",6)"
   ]
  },
  {
   "cell_type": "code",
   "execution_count": 23,
   "id": "3dbb63e2",
   "metadata": {},
   "outputs": [
    {
     "name": "stdout",
     "output_type": "stream",
     "text": [
      "my dog name is willie.\n"
     ]
    }
   ],
   "source": [
    "print(f\"my dog name is {my_dog.name}.\")"
   ]
  },
  {
   "cell_type": "code",
   "execution_count": 25,
   "id": "09ba69df",
   "metadata": {},
   "outputs": [
    {
     "name": "stdout",
     "output_type": "stream",
     "text": [
      "willie is sitting\n"
     ]
    }
   ],
   "source": [
    "my_dog.sit()"
   ]
  },
  {
   "cell_type": "code",
   "execution_count": 26,
   "id": "51c9dfb4",
   "metadata": {},
   "outputs": [
    {
     "name": "stdout",
     "output_type": "stream",
     "text": [
      "willie can roll\n"
     ]
    }
   ],
   "source": [
    "my_dog.roll_over()"
   ]
  },
  {
   "cell_type": "code",
   "execution_count": 30,
   "id": "0e33ebb0",
   "metadata": {},
   "outputs": [
    {
     "data": {
      "text/plain": [
       "'paradise'"
      ]
     },
     "execution_count": 30,
     "metadata": {},
     "output_type": "execute_result"
    }
   ],
   "source": [
    "my_restaurrant.name"
   ]
  },
  {
   "cell_type": "code",
   "execution_count": 31,
   "id": "95651591",
   "metadata": {},
   "outputs": [
    {
     "data": {
      "text/plain": [
       "'chineese'"
      ]
     },
     "execution_count": 31,
     "metadata": {},
     "output_type": "execute_result"
    }
   ],
   "source": [
    "my_restaurrant.cuisine"
   ]
  },
  {
   "cell_type": "code",
   "execution_count": 38,
   "id": "7ec01a22",
   "metadata": {},
   "outputs": [
    {
     "name": "stdout",
     "output_type": "stream",
     "text": [
      "best for chineese food in the town\n"
     ]
    }
   ],
   "source": [
    "my_restaurrant.describe_restaurrant()"
   ]
  },
  {
   "cell_type": "code",
   "execution_count": 39,
   "id": "2fa45447",
   "metadata": {},
   "outputs": [
    {
     "name": "stdout",
     "output_type": "stream",
     "text": [
      "restaurant is open now\n"
     ]
    }
   ],
   "source": [
    "my_restaurrant.open_restaurrant()"
   ]
  },
  {
   "cell_type": "code",
   "execution_count": 3,
   "id": "35e834ed",
   "metadata": {},
   "outputs": [
    {
     "name": "stdout",
     "output_type": "stream",
     "text": [
      "2021 Bmw 7\n"
     ]
    }
   ],
   "source": [
    "print(my_car.get_descriptive_name())"
   ]
  },
  {
   "cell_type": "code",
   "execution_count": 5,
   "id": "ade52bf9",
   "metadata": {},
   "outputs": [
    {
     "name": "stdout",
     "output_type": "stream",
     "text": [
      "car has 0 miles on it\n"
     ]
    }
   ],
   "source": [
    "my_car.read_odometer()"
   ]
  },
  {
   "cell_type": "code",
   "execution_count": 23,
   "id": "43244103",
   "metadata": {},
   "outputs": [
    {
     "name": "stdout",
     "output_type": "stream",
     "text": [
      "car has 200 miles on it\n"
     ]
    }
   ],
   "source": [
    "#my_car.odometer_reading=23\n",
    "my_car.read_odometer()"
   ]
  },
  {
   "cell_type": "code",
   "execution_count": 19,
   "id": "017aa1cf",
   "metadata": {},
   "outputs": [
    {
     "name": "stdout",
     "output_type": "stream",
     "text": [
      "you can not roll back odometer!\n"
     ]
    }
   ],
   "source": [
    "my_car.update_odometer(30)"
   ]
  },
  {
   "cell_type": "code",
   "execution_count": 22,
   "id": "c0aca046",
   "metadata": {},
   "outputs": [],
   "source": [
    "my_car.increment_odometer(200)"
   ]
  },
  {
   "cell_type": "code",
   "execution_count": 51,
   "id": "ca1980ed",
   "metadata": {},
   "outputs": [
    {
     "data": {
      "text/plain": [
       "0"
      ]
     },
     "execution_count": 51,
     "metadata": {},
     "output_type": "execute_result"
    }
   ],
   "source": [
    "my_restaurrant.number_served"
   ]
  },
  {
   "cell_type": "code",
   "execution_count": 56,
   "id": "6b3dbf6d",
   "metadata": {},
   "outputs": [
    {
     "name": "stdout",
     "output_type": "stream",
     "text": [
      "300\n"
     ]
    }
   ],
   "source": [
    "print(my_restaurrant.set_number_served(100))"
   ]
  },
  {
   "cell_type": "code",
   "execution_count": 57,
   "id": "3ff63875",
   "metadata": {},
   "outputs": [
    {
     "name": "stdout",
     "output_type": "stream",
     "text": [
      "400\n"
     ]
    }
   ],
   "source": [
    "my_restaurrant.increment_number_served(700)"
   ]
  },
  {
   "cell_type": "code",
   "execution_count": 156,
   "id": "9f7dd622",
   "metadata": {},
   "outputs": [
    {
     "name": "stdout",
     "output_type": "stream",
     "text": [
      "full name of user: sunil kumar\n",
      "hello sunil kumar\n"
     ]
    },
    {
     "data": {
      "text/plain": [
       "0"
      ]
     },
     "execution_count": 156,
     "metadata": {},
     "output_type": "execute_result"
    }
   ],
   "source": [
    "user=User('sunil','kumar')\n",
    "user.describe_user()\n",
    "user.greet_user()\n",
    "user.login_attempts"
   ]
  },
  {
   "cell_type": "code",
   "execution_count": 176,
   "id": "40239964",
   "metadata": {},
   "outputs": [
    {
     "data": {
      "text/plain": [
       "1"
      ]
     },
     "execution_count": 176,
     "metadata": {},
     "output_type": "execute_result"
    }
   ],
   "source": [
    "user.increment_login_attempts()"
   ]
  },
  {
   "cell_type": "code",
   "execution_count": 175,
   "id": "09c57805",
   "metadata": {},
   "outputs": [
    {
     "data": {
      "text/plain": [
       "0"
      ]
     },
     "execution_count": 175,
     "metadata": {},
     "output_type": "execute_result"
    }
   ],
   "source": [
    "user.reset_login_attempts()"
   ]
  },
  {
   "cell_type": "code",
   "execution_count": 129,
   "id": "925cadb8",
   "metadata": {},
   "outputs": [
    {
     "name": "stdout",
     "output_type": "stream",
     "text": [
      "full name of user: sunil1 kumar1\n",
      "hello sunil1 kumar1\n"
     ]
    },
    {
     "data": {
      "text/plain": [
       "1"
      ]
     },
     "execution_count": 129,
     "metadata": {},
     "output_type": "execute_result"
    }
   ],
   "source": [
    "user=User('sunil1','kumar1')\n",
    "user.describe_user()\n",
    "user.greet_user()\n",
    "user.login_attempts\n",
    "user.increment_login_attempts()"
   ]
  },
  {
   "cell_type": "code",
   "execution_count": 228,
   "id": "0c4f0c3c",
   "metadata": {},
   "outputs": [],
   "source": [
    "class Car:\n",
    "    \"\"\"A simple attempt to repersent a car\"\"\"\n",
    "    def __init__(self,make,model,year):\n",
    "        self.make=make\n",
    "        self.model=model\n",
    "        self.year=year\n",
    "        self.odometer_reading=0\n",
    "    def get_descriptive_name(self):\n",
    "        \"\"\"return a neatly formatted descriptive name\"\"\"\n",
    "        long_name=f\"{self.year} {self.make} {self.model}\"\n",
    "        return long_name.title()\n",
    "    def read_odometer(self):\n",
    "        \"\"\"print a statement showing car mileage\"\"\"\n",
    "        print(f\"car has {self.odometer_reading} miles on it\")\n",
    "    def update_odometer(self,mileage):\n",
    "        if mileage>=self.odometer_reading:\n",
    "            self.odometer_reading=mileage\n",
    "        else:\n",
    "            print(\"you can not roll back odometer!\")\n",
    "    def increment_odometer(self,miles):\n",
    "        self.odometer_reading+=miles\n",
    "    def fill_gas_tank(self,gas):\n",
    "        self.gas=gas\n",
    "        print(f\"amount of gas in tank is {self.gas}\")\n",
    "    "
   ]
  },
  {
   "cell_type": "code",
   "execution_count": 242,
   "id": "7e012608",
   "metadata": {},
   "outputs": [],
   "source": [
    "class ElectricCar(Car):\n",
    "    \"\"\"repersent an electric car\"\"\"\n",
    "    def __init__(self,make,model,year):\n",
    "        Car.__init__(self,make,model,year)\n",
    "        self.battery_size=75\n",
    "        self.battery=Battery()\n",
    "    \n",
    "    def fill_gas_tank(self):\n",
    "        print(\"this car doesn't have a gas tank\")"
   ]
  },
  {
   "cell_type": "code",
   "execution_count": 240,
   "id": "15e910e1",
   "metadata": {},
   "outputs": [],
   "source": [
    "class Battery:\n",
    "    \"\"\"battery created for electric car\"\"\"\n",
    "    def __init__(self,battery_size=100):\n",
    "        self.battery_size=battery_size\n",
    "        \n",
    "    def describe_battery(self):\n",
    "        \"\"\"print battery size\"\"\"\n",
    "        print(f\"this car has {self.battery_size}-kwh battery\")\n",
    "    def get_range(self):\n",
    "        if self.battery_size==75:\n",
    "            range=260\n",
    "        elif self.battery_size==100:\n",
    "            range=315\n",
    "        print(f\"this car has {range} miles on full charge\")"
   ]
  },
  {
   "cell_type": "code",
   "execution_count": 241,
   "id": "7aafe834",
   "metadata": {},
   "outputs": [
    {
     "data": {
      "text/plain": [
       "'2019 Tesla Model S'"
      ]
     },
     "execution_count": 241,
     "metadata": {},
     "output_type": "execute_result"
    }
   ],
   "source": [
    "my_tesla=ElectricCar('tesla','model s',2019)\n",
    "my_tesla.get_descriptive_name()"
   ]
  },
  {
   "cell_type": "code",
   "execution_count": 236,
   "id": "28d22c46",
   "metadata": {},
   "outputs": [],
   "source": [
    "my_car=Car('BMW','7',2021)"
   ]
  },
  {
   "cell_type": "code",
   "execution_count": 237,
   "id": "16bb992c",
   "metadata": {},
   "outputs": [
    {
     "data": {
      "text/plain": [
       "75"
      ]
     },
     "execution_count": 237,
     "metadata": {},
     "output_type": "execute_result"
    }
   ],
   "source": [
    "my_tesla.battery_size"
   ]
  },
  {
   "cell_type": "code",
   "execution_count": 239,
   "id": "0c62c8e3",
   "metadata": {},
   "outputs": [
    {
     "name": "stdout",
     "output_type": "stream",
     "text": [
      "this car has 100-kwh battery\n"
     ]
    }
   ],
   "source": [
    "my_tesla.battery.describe_battery()"
   ]
  },
  {
   "cell_type": "code",
   "execution_count": 231,
   "id": "a3ebb0c8",
   "metadata": {},
   "outputs": [
    {
     "name": "stdout",
     "output_type": "stream",
     "text": [
      "this car doesn't have a gas tank\n"
     ]
    }
   ],
   "source": [
    "my_tesla.fill_gas_tank()"
   ]
  },
  {
   "cell_type": "code",
   "execution_count": 232,
   "id": "371d1ccc",
   "metadata": {},
   "outputs": [
    {
     "name": "stdout",
     "output_type": "stream",
     "text": [
      "amount of gas in tank is 100\n"
     ]
    }
   ],
   "source": [
    "my_car.fill_gas_tank(100)"
   ]
  },
  {
   "cell_type": "code",
   "execution_count": 243,
   "id": "19fc244a",
   "metadata": {},
   "outputs": [
    {
     "name": "stdout",
     "output_type": "stream",
     "text": [
      "this car has 315 miles on full charge\n"
     ]
    }
   ],
   "source": [
    "my_tesla.battery.get_range()"
   ]
  },
  {
   "cell_type": "markdown",
   "id": "8d6f6ff9",
   "metadata": {},
   "source": [
    "### ice cream stand"
   ]
  },
  {
   "cell_type": "code",
   "execution_count": 272,
   "id": "04680d56",
   "metadata": {},
   "outputs": [],
   "source": [
    "class Restaurant:\n",
    "    def __init__(self,name,cuisine_type):\n",
    "        self.name=name\n",
    "        self.cuisine=cuisine_type\n",
    "        self.number_served=0\n",
    "    def describe_restaurant(self):\n",
    "        print(f\"best for {self.cuisine} food in the town\")\n",
    "    def open_restaurant(self):\n",
    "        print(\"restaurant is open now\")\n",
    "    \n",
    "\n",
    "my_restaurant=Restaurant(\"paradise\",\"chineese\")"
   ]
  },
  {
   "cell_type": "code",
   "execution_count": 273,
   "id": "3eff2de3",
   "metadata": {},
   "outputs": [],
   "source": [
    "class IceCreamStand(Restaurant):\n",
    "    def __init__(self,name,cuisine_type):\n",
    "        Restaurant.__init__(self,name,cuisine_type)\n",
    "        self.flavors=['vanilla','choco','butter_scotch']\n",
    "        print(\"flavors available\")\n",
    "        for flavor in self.flavors:\n",
    "            \n",
    "            print(f\"flavor: {flavor}\")\n",
    "        "
   ]
  },
  {
   "cell_type": "code",
   "execution_count": 274,
   "id": "d5a6b1fe",
   "metadata": {},
   "outputs": [
    {
     "data": {
      "text/plain": [
       "'paradise'"
      ]
     },
     "execution_count": 274,
     "metadata": {},
     "output_type": "execute_result"
    }
   ],
   "source": [
    "my_restaurant.name"
   ]
  },
  {
   "cell_type": "code",
   "execution_count": 275,
   "id": "a2cb5f4a",
   "metadata": {},
   "outputs": [
    {
     "name": "stdout",
     "output_type": "stream",
     "text": [
      "flavors available\n",
      "flavor: vanilla\n",
      "flavor: choco\n",
      "flavor: butter_scotch\n"
     ]
    }
   ],
   "source": [
    "ice_cream_stand=IceCreamStand(\"ice_paradise\",\"icecreams\")"
   ]
  },
  {
   "cell_type": "code",
   "execution_count": 276,
   "id": "708d638f",
   "metadata": {},
   "outputs": [
    {
     "name": "stdout",
     "output_type": "stream",
     "text": [
      "best for icecreams food in the town\n"
     ]
    }
   ],
   "source": [
    "ice_cream_stand.describe_restaurant()"
   ]
  },
  {
   "cell_type": "code",
   "execution_count": 278,
   "id": "4e8111ee",
   "metadata": {},
   "outputs": [],
   "source": [
    "class User:\n",
    "    login_attempts=0\n",
    "    def __init__(self,f_name,l_name):\n",
    "        self.first_name=f_name\n",
    "        self.last_name=l_name\n",
    "    def describe_user(self):\n",
    "        self.full_name=self.first_name+' '+self.last_name\n",
    "        print(f\"full name of user: {self.full_name}\")\n",
    "        \n",
    "    def greet_user(self):\n",
    "        print(f\"hello {self.full_name}\")\n",
    "        \n",
    "    def increment_login_attempts(self):\n",
    "        self.login_attempts+=1\n",
    "        return self.login_attempts\n",
    "    def reset_login_attempts(self):\n",
    "        self.login_attempts=0\n",
    "        return self.login_attempts\n",
    "        "
   ]
  },
  {
   "cell_type": "code",
   "execution_count": 297,
   "id": "eef434f7",
   "metadata": {},
   "outputs": [],
   "source": [
    "class Admin(User):\n",
    "    def __init__(self,f_name,l_name):\n",
    "        User.__init__(self,f_name,l_name)\n",
    "        self.priv=Privileges()\n",
    "        \n",
    "    \n",
    "            "
   ]
  },
  {
   "cell_type": "code",
   "execution_count": 298,
   "id": "7ee9d964",
   "metadata": {},
   "outputs": [],
   "source": [
    "admin=Admin(\"s\",\"k\")"
   ]
  },
  {
   "cell_type": "code",
   "execution_count": 303,
   "id": "86e390fa",
   "metadata": {},
   "outputs": [
    {
     "name": "stdout",
     "output_type": "stream",
     "text": [
      "admin : can add post\n",
      "admin : can delete post\n",
      "admin : can ban user\n"
     ]
    }
   ],
   "source": [
    "admin.priv.show_priv()"
   ]
  },
  {
   "cell_type": "code",
   "execution_count": 300,
   "id": "a03a3cfa",
   "metadata": {},
   "outputs": [],
   "source": [
    "class Privileges:\n",
    "    def __init__(self):\n",
    "        self.privs=['can add post','can delete post',\n",
    "                  'can ban user']\n",
    "    def show_priv(self):\n",
    "        for priv in self.privs:\n",
    "            print(f\"admin : {priv}\")"
   ]
  },
  {
   "cell_type": "code",
   "execution_count": 301,
   "id": "3dfe6fd9",
   "metadata": {},
   "outputs": [],
   "source": [
    "privileges=Privileges()"
   ]
  },
  {
   "cell_type": "code",
   "execution_count": 302,
   "id": "1117c7e8",
   "metadata": {},
   "outputs": [
    {
     "name": "stdout",
     "output_type": "stream",
     "text": [
      "admin : can add post\n",
      "admin : can delete post\n",
      "admin : can ban user\n"
     ]
    }
   ],
   "source": [
    "privileges.show_priv()"
   ]
  },
  {
   "cell_type": "code",
   "execution_count": 1,
   "id": "5587879d",
   "metadata": {},
   "outputs": [
    {
     "name": "stdout",
     "output_type": "stream",
     "text": [
      "sunil kumar 23\n"
     ]
    }
   ],
   "source": [
    "print('{} {} {}'.format('sunil','kumar',23))"
   ]
  },
  {
   "cell_type": "code",
   "execution_count": 16,
   "id": "fd85e504",
   "metadata": {},
   "outputs": [
    {
     "name": "stdout",
     "output_type": "stream",
     "text": [
      "| 23........ |      kumar      ||                sunil |\n",
      "| ////23//// |           kumar || sunil                |\n",
      "| ,,,,,,,,23 | kumar           ||        sunil         |\n",
      "| 23\\\\\\\\\\\\\\\\ |      kumar      ||                sunil |\n"
     ]
    }
   ],
   "source": [
    "print('| {2:.<10} | {1:^15} || {0:>20} |'.format('sunil','kumar',23))\n",
    "print('| {2:/^10} | {1:>15} || {0:<20} |'.format('sunil','kumar',23))\n",
    "print('| {2:,>10} | {1:<15} || {0:^20} |'.format('sunil','kumar',23))\n",
    "print('| {2:\\<10} | {1:^15} || {0:>20} |'.format('sunil','kumar',23))"
   ]
  },
  {
   "cell_type": "code",
   "execution_count": 29,
   "id": "3bfb5058",
   "metadata": {},
   "outputs": [
    {
     "name": "stdout",
     "output_type": "stream",
     "text": [
      "                       100.300\n"
     ]
    }
   ],
   "source": [
    "print('{0:30.3f}'.format(100.3))"
   ]
  },
  {
   "cell_type": "code",
   "execution_count": 32,
   "id": "437f8820",
   "metadata": {},
   "outputs": [
    {
     "name": "stdout",
     "output_type": "stream",
     "text": [
      "'sk'\n"
     ]
    }
   ],
   "source": [
    "name='sk'\n",
    "print(f\"{name!r}\")"
   ]
  },
  {
   "cell_type": "code",
   "execution_count": 33,
   "id": "41fd043f",
   "metadata": {},
   "outputs": [
    {
     "data": {
      "text/plain": [
       "dict"
      ]
     },
     "execution_count": 33,
     "metadata": {},
     "output_type": "execute_result"
    }
   ],
   "source": [
    "d={}\n",
    "type(d)"
   ]
  },
  {
   "cell_type": "code",
   "execution_count": 34,
   "id": "df2df176",
   "metadata": {},
   "outputs": [],
   "source": [
    "d['key1']='value1'\n",
    "d['key2']='value2'"
   ]
  },
  {
   "cell_type": "code",
   "execution_count": 35,
   "id": "f7b51dd3",
   "metadata": {},
   "outputs": [
    {
     "data": {
      "text/plain": [
       "{'key1': 'value1', 'key2': 'value2'}"
      ]
     },
     "execution_count": 35,
     "metadata": {},
     "output_type": "execute_result"
    }
   ],
   "source": [
    "d"
   ]
  },
  {
   "cell_type": "code",
   "execution_count": 36,
   "id": "bbca3298",
   "metadata": {},
   "outputs": [
    {
     "data": {
      "text/plain": [
       "dict_keys(['key1', 'key2'])"
      ]
     },
     "execution_count": 36,
     "metadata": {},
     "output_type": "execute_result"
    }
   ],
   "source": [
    "d.keys()"
   ]
  },
  {
   "cell_type": "code",
   "execution_count": 37,
   "id": "28038edf",
   "metadata": {},
   "outputs": [
    {
     "data": {
      "text/plain": [
       "dict_values(['value1', 'value2'])"
      ]
     },
     "execution_count": 37,
     "metadata": {},
     "output_type": "execute_result"
    }
   ],
   "source": [
    "d.values()"
   ]
  },
  {
   "cell_type": "code",
   "execution_count": 38,
   "id": "0af0e0f9",
   "metadata": {},
   "outputs": [
    {
     "data": {
      "text/plain": [
       "dict_items([('key1', 'value1'), ('key2', 'value2')])"
      ]
     },
     "execution_count": 38,
     "metadata": {},
     "output_type": "execute_result"
    }
   ],
   "source": [
    "d.items()"
   ]
  },
  {
   "cell_type": "code",
   "execution_count": 42,
   "id": "44f7c6ac",
   "metadata": {},
   "outputs": [],
   "source": [
    "t=(1,2,3,4,1,1)"
   ]
  },
  {
   "cell_type": "code",
   "execution_count": 43,
   "id": "4f639543",
   "metadata": {},
   "outputs": [
    {
     "data": {
      "text/plain": [
       "tuple"
      ]
     },
     "execution_count": 43,
     "metadata": {},
     "output_type": "execute_result"
    }
   ],
   "source": [
    "type(t)"
   ]
  },
  {
   "cell_type": "code",
   "execution_count": 47,
   "id": "71a77cfe",
   "metadata": {},
   "outputs": [
    {
     "data": {
      "text/plain": [
       "2"
      ]
     },
     "execution_count": 47,
     "metadata": {},
     "output_type": "execute_result"
    }
   ],
   "source": [
    "t.index(3)"
   ]
  },
  {
   "cell_type": "code",
   "execution_count": 48,
   "id": "dda127f7",
   "metadata": {},
   "outputs": [],
   "source": [
    "x=set()"
   ]
  },
  {
   "cell_type": "code",
   "execution_count": 49,
   "id": "cc3c0141",
   "metadata": {},
   "outputs": [
    {
     "data": {
      "text/plain": [
       "set"
      ]
     },
     "execution_count": 49,
     "metadata": {},
     "output_type": "execute_result"
    }
   ],
   "source": [
    "type(x)"
   ]
  },
  {
   "cell_type": "code",
   "execution_count": 53,
   "id": "26d83ed7",
   "metadata": {},
   "outputs": [
    {
     "data": {
      "text/plain": [
       "{1, 2, 3, 4}"
      ]
     },
     "execution_count": 53,
     "metadata": {},
     "output_type": "execute_result"
    }
   ],
   "source": [
    "y=(1,2,3,4,1,2,3,4,1,2,3,4)\n",
    "set(y)"
   ]
  },
  {
   "cell_type": "code",
   "execution_count": 57,
   "id": "4ccfcc3e",
   "metadata": {},
   "outputs": [
    {
     "name": "stdout",
     "output_type": "stream",
     "text": [
      "None\n"
     ]
    }
   ],
   "source": [
    "print(set(y).add(5))"
   ]
  },
  {
   "cell_type": "code",
   "execution_count": 56,
   "id": "54eeefee",
   "metadata": {},
   "outputs": [
    {
     "data": {
      "text/plain": [
       "{1, 2, 3, 4}"
      ]
     },
     "execution_count": 56,
     "metadata": {},
     "output_type": "execute_result"
    }
   ],
   "source": [
    "set(y)"
   ]
  },
  {
   "cell_type": "code",
   "execution_count": 58,
   "id": "b7caa5e4",
   "metadata": {},
   "outputs": [],
   "source": [
    "x=set()"
   ]
  },
  {
   "cell_type": "code",
   "execution_count": 59,
   "id": "beda2e01",
   "metadata": {},
   "outputs": [],
   "source": [
    "x.add(1)"
   ]
  },
  {
   "cell_type": "code",
   "execution_count": 60,
   "id": "dcfbc077",
   "metadata": {},
   "outputs": [
    {
     "data": {
      "text/plain": [
       "{1}"
      ]
     },
     "execution_count": 60,
     "metadata": {},
     "output_type": "execute_result"
    }
   ],
   "source": [
    "x"
   ]
  },
  {
   "cell_type": "code",
   "execution_count": 61,
   "id": "84cd5417",
   "metadata": {},
   "outputs": [],
   "source": [
    "x.add(2)"
   ]
  },
  {
   "cell_type": "code",
   "execution_count": 62,
   "id": "3b76bef1",
   "metadata": {},
   "outputs": [
    {
     "data": {
      "text/plain": [
       "{1, 2}"
      ]
     },
     "execution_count": 62,
     "metadata": {},
     "output_type": "execute_result"
    }
   ],
   "source": [
    "x"
   ]
  },
  {
   "cell_type": "code",
   "execution_count": 63,
   "id": "a92362fd",
   "metadata": {},
   "outputs": [],
   "source": [
    "x.add(1)"
   ]
  },
  {
   "cell_type": "code",
   "execution_count": 64,
   "id": "743cf9a5",
   "metadata": {},
   "outputs": [
    {
     "data": {
      "text/plain": [
       "{1, 2}"
      ]
     },
     "execution_count": 64,
     "metadata": {},
     "output_type": "execute_result"
    }
   ],
   "source": [
    "x"
   ]
  },
  {
   "cell_type": "code",
   "execution_count": 65,
   "id": "be66199b",
   "metadata": {},
   "outputs": [
    {
     "data": {
      "text/plain": [
       "8.5"
      ]
     },
     "execution_count": 65,
     "metadata": {},
     "output_type": "execute_result"
    }
   ],
   "source": [
    "3+1.5+4"
   ]
  },
  {
   "cell_type": "code",
   "execution_count": 66,
   "id": "e68a232c",
   "metadata": {},
   "outputs": [
    {
     "data": {
      "text/plain": [
       "'olleh'"
      ]
     },
     "execution_count": 66,
     "metadata": {},
     "output_type": "execute_result"
    }
   ],
   "source": [
    "s='hello'\n",
    "s[::-1]"
   ]
  },
  {
   "cell_type": "code",
   "execution_count": 67,
   "id": "d67e6786",
   "metadata": {},
   "outputs": [
    {
     "data": {
      "text/plain": [
       "'olleh'"
      ]
     },
     "execution_count": 67,
     "metadata": {},
     "output_type": "execute_result"
    }
   ],
   "source": [
    "'hello'[::-1]"
   ]
  },
  {
   "cell_type": "code",
   "execution_count": 69,
   "id": "13a771bd",
   "metadata": {},
   "outputs": [],
   "source": [
    "list=[]\n",
    "list.append(0)"
   ]
  },
  {
   "cell_type": "code",
   "execution_count": 71,
   "id": "827698c4",
   "metadata": {},
   "outputs": [],
   "source": [
    "list.append(0)"
   ]
  },
  {
   "cell_type": "code",
   "execution_count": 72,
   "id": "82f6d678",
   "metadata": {},
   "outputs": [
    {
     "data": {
      "text/plain": [
       "[0, 0, 0]"
      ]
     },
     "execution_count": 72,
     "metadata": {},
     "output_type": "execute_result"
    }
   ],
   "source": [
    "list"
   ]
  },
  {
   "cell_type": "code",
   "execution_count": 73,
   "id": "df20ee26",
   "metadata": {},
   "outputs": [],
   "source": [
    "list=[0,0,0]"
   ]
  },
  {
   "cell_type": "code",
   "execution_count": 74,
   "id": "eb56b1b1",
   "metadata": {},
   "outputs": [
    {
     "data": {
      "text/plain": [
       "[0, 0, 0]"
      ]
     },
     "execution_count": 74,
     "metadata": {},
     "output_type": "execute_result"
    }
   ],
   "source": [
    "list"
   ]
  },
  {
   "cell_type": "code",
   "execution_count": 76,
   "id": "a8a18a7d",
   "metadata": {},
   "outputs": [
    {
     "data": {
      "text/plain": [
       "[(0, 0, 0)]"
      ]
     },
     "execution_count": 76,
     "metadata": {},
     "output_type": "execute_result"
    }
   ],
   "source": [
    "x=(0,0,0)\n",
    "[x]"
   ]
  },
  {
   "cell_type": "code",
   "execution_count": 79,
   "id": "d7e71800",
   "metadata": {},
   "outputs": [],
   "source": [
    "list4=[5,3,6,4]\n"
   ]
  },
  {
   "cell_type": "code",
   "execution_count": 80,
   "id": "1b1f121b",
   "metadata": {},
   "outputs": [
    {
     "data": {
      "text/plain": [
       "list"
      ]
     },
     "execution_count": 80,
     "metadata": {},
     "output_type": "execute_result"
    }
   ],
   "source": [
    "type(list4)"
   ]
  },
  {
   "cell_type": "code",
   "execution_count": 4,
   "id": "7cc50f56",
   "metadata": {},
   "outputs": [
    {
     "name": "stdout",
     "output_type": "stream",
     "text": [
      "1\n",
      "2\n",
      "3\n",
      "4\n",
      "5\n",
      "6\n"
     ]
    }
   ],
   "source": [
    "list=[1,2,3,4,5,6]\n",
    "for i in range(len(list)):\n",
    "    print(list[i])"
   ]
  },
  {
   "cell_type": "code",
   "execution_count": 5,
   "id": "03b30fdb",
   "metadata": {},
   "outputs": [
    {
     "data": {
      "text/plain": [
       "2"
      ]
     },
     "execution_count": 5,
     "metadata": {},
     "output_type": "execute_result"
    }
   ],
   "source": [
    "17%5"
   ]
  },
  {
   "cell_type": "code",
   "execution_count": 6,
   "id": "b5bb446a",
   "metadata": {},
   "outputs": [
    {
     "name": "stdout",
     "output_type": "stream",
     "text": [
      "odd\n",
      "2\n",
      "odd\n",
      "4\n",
      "odd\n",
      "6\n"
     ]
    }
   ],
   "source": [
    "for i in list:\n",
    "    if i%2==0:\n",
    "        print(i)\n",
    "    else:\n",
    "        print(\"odd\")"
   ]
  },
  {
   "cell_type": "code",
   "execution_count": 10,
   "id": "c8694fde",
   "metadata": {},
   "outputs": [
    {
     "name": "stdout",
     "output_type": "stream",
     "text": [
      "after adding 1 the sum is :1\n",
      "after adding 2 the sum is :3\n",
      "after adding 3 the sum is :6\n",
      "after adding 4 the sum is :10\n",
      "after adding 5 the sum is :15\n",
      "after adding 6 the sum is :21\n",
      "final sum is 21\n"
     ]
    }
   ],
   "source": [
    "sum=0\n",
    "for i in list:\n",
    "    sum+=i\n",
    "    print(\"after adding {} the sum is :{}\".format(i,sum))\n",
    "print(\"final sum is\",sum)"
   ]
  },
  {
   "cell_type": "code",
   "execution_count": 15,
   "id": "d535d0c8",
   "metadata": {},
   "outputs": [
    {
     "data": {
      "text/plain": [
       "['a', 'ythi', 'g betwee', ' quotes is stri', 'g']"
      ]
     },
     "execution_count": 15,
     "metadata": {},
     "output_type": "execute_result"
    }
   ],
   "source": [
    "x=\"anything between quotes is string\"\n",
    "x.split('n')"
   ]
  },
  {
   "cell_type": "code",
   "execution_count": 16,
   "id": "c7279d56",
   "metadata": {},
   "outputs": [
    {
     "name": "stdout",
     "output_type": "stream",
     "text": [
      "a\n",
      "n\n",
      "y\n",
      "t\n",
      "h\n",
      "i\n",
      "n\n",
      "g\n",
      " \n",
      "b\n",
      "e\n",
      "t\n",
      "w\n",
      "e\n",
      "e\n",
      "n\n",
      " \n",
      "q\n",
      "u\n",
      "o\n",
      "t\n",
      "e\n",
      "s\n",
      " \n",
      "i\n",
      "s\n",
      " \n",
      "s\n",
      "t\n",
      "r\n",
      "i\n",
      "n\n",
      "g\n"
     ]
    }
   ],
   "source": [
    "for str in x:\n",
    "    print(str)"
   ]
  },
  {
   "cell_type": "code",
   "execution_count": 17,
   "id": "65058e80",
   "metadata": {},
   "outputs": [
    {
     "name": "stdout",
     "output_type": "stream",
     "text": [
      "1\n",
      "2\n",
      "3\n"
     ]
    }
   ],
   "source": [
    "tup=(1,2,3)\n",
    "for i in tup:\n",
    "    print(i)"
   ]
  },
  {
   "cell_type": "code",
   "execution_count": 26,
   "id": "8d0b69f7",
   "metadata": {},
   "outputs": [
    {
     "name": "stdout",
     "output_type": "stream",
     "text": [
      "5 (1, 2)\n",
      "5 (3, 4)\n",
      "5 (5, 6)\n"
     ]
    }
   ],
   "source": [
    "list1=[(1,2),(3,4),(5,6)]\n",
    "for j in list1:\n",
    "    print(i,j)"
   ]
  },
  {
   "cell_type": "code",
   "execution_count": 33,
   "id": "0135ce22",
   "metadata": {},
   "outputs": [],
   "source": [
    "d = {'k1':1,'k2':2,'k3':3}"
   ]
  },
  {
   "cell_type": "code",
   "execution_count": 35,
   "id": "32040664",
   "metadata": {},
   "outputs": [
    {
     "name": "stdout",
     "output_type": "stream",
     "text": [
      "k1 1\n",
      "k2 2\n",
      "k3 3\n"
     ]
    }
   ],
   "source": [
    "for key,value in d.items():\n",
    "    print(key,value)"
   ]
  },
  {
   "cell_type": "code",
   "execution_count": 36,
   "id": "19b46034",
   "metadata": {},
   "outputs": [
    {
     "data": {
      "text/plain": [
       "dict_values([1, 2, 3])"
      ]
     },
     "execution_count": 36,
     "metadata": {},
     "output_type": "execute_result"
    }
   ],
   "source": [
    "d.values()"
   ]
  },
  {
   "cell_type": "code",
   "execution_count": 39,
   "id": "25a9abb8",
   "metadata": {},
   "outputs": [
    {
     "name": "stdout",
     "output_type": "stream",
     "text": [
      "0\n",
      "1\n",
      "2\n",
      "3\n",
      "4\n",
      "5\n",
      "6\n",
      "7\n",
      "8\n",
      "9\n",
      "10\n",
      "loop ends because now x = 11\n"
     ]
    }
   ],
   "source": [
    "x=0\n",
    "while x<=10:\n",
    "    print(x)\n",
    "    x+=1\n",
    "print(\"loop ends because now x = {}\".format(x))\n",
    "    "
   ]
  },
  {
   "cell_type": "code",
   "execution_count": 40,
   "id": "5303a139",
   "metadata": {},
   "outputs": [
    {
     "name": "stdout",
     "output_type": "stream",
     "text": [
      "x is currently:  0\n",
      " x is still less than 10, adding 1 to x\n",
      "continuing...\n",
      "x is currently:  1\n",
      " x is still less than 10, adding 1 to x\n",
      "continuing...\n",
      "x is currently:  2\n",
      " x is still less than 10, adding 1 to x\n",
      "x==3\n",
      "x is currently:  3\n",
      " x is still less than 10, adding 1 to x\n",
      "continuing...\n",
      "x is currently:  4\n",
      " x is still less than 10, adding 1 to x\n",
      "continuing...\n",
      "x is currently:  5\n",
      " x is still less than 10, adding 1 to x\n",
      "continuing...\n",
      "x is currently:  6\n",
      " x is still less than 10, adding 1 to x\n",
      "continuing...\n",
      "x is currently:  7\n",
      " x is still less than 10, adding 1 to x\n",
      "continuing...\n",
      "x is currently:  8\n",
      " x is still less than 10, adding 1 to x\n",
      "continuing...\n",
      "x is currently:  9\n",
      " x is still less than 10, adding 1 to x\n",
      "continuing...\n"
     ]
    }
   ],
   "source": [
    "x = 0\n",
    "\n",
    "while x < 10:\n",
    "    print('x is currently: ',x)\n",
    "    print(' x is still less than 10, adding 1 to x')\n",
    "    x+=1\n",
    "    if x==3:\n",
    "        print('x==3')\n",
    "    else:\n",
    "        print('continuing...')\n",
    "        continue"
   ]
  },
  {
   "cell_type": "code",
   "execution_count": 42,
   "id": "5a04fd67",
   "metadata": {},
   "outputs": [
    {
     "name": "stdout",
     "output_type": "stream",
     "text": [
      "0\n",
      "continue\n",
      "1\n",
      "continue\n",
      "2\n",
      "continue\n",
      "3\n",
      "continue\n",
      "4\n",
      "breaking because x equals to 5\n"
     ]
    }
   ],
   "source": [
    "x=0\n",
    "while x<10:\n",
    "    print(x)\n",
    "    x+=1\n",
    "    if x==5:\n",
    "        print(\"breaking because x equals to 5\")\n",
    "        break\n",
    "    else:\n",
    "        print(\"continue\")\n",
    "        continue"
   ]
  },
  {
   "cell_type": "code",
   "execution_count": 45,
   "id": "360ad4c8",
   "metadata": {},
   "outputs": [
    {
     "name": "stdout",
     "output_type": "stream",
     "text": [
      "at index 0 the letter is 'S'\n",
      "at index 1 the letter is 'U'\n",
      "at index 2 the letter is 'N'\n",
      "at index 3 the letter is 'I'\n",
      "at index 4 the letter is 'L'\n"
     ]
    }
   ],
   "source": [
    "index_count=0\n",
    "for letter in \"sunil\":\n",
    "    print(f\"at index {index_count} the letter is '{letter.upper()}'\")\n",
    "    index_count+=1"
   ]
  },
  {
   "cell_type": "code",
   "execution_count": 46,
   "id": "1c88ade3",
   "metadata": {},
   "outputs": [
    {
     "name": "stdout",
     "output_type": "stream",
     "text": [
      "at index 0 the letter is 'S'\n",
      "at index 1 the letter is 'U'\n",
      "at index 2 the letter is 'N'\n",
      "at index 3 the letter is 'I'\n",
      "at index 4 the letter is 'L'\n"
     ]
    }
   ],
   "source": [
    "for i,letter in enumerate(\"sunil\"):\n",
    "    print(f\"at index {i} the letter is '{letter.upper()}'\")"
   ]
  },
  {
   "cell_type": "code",
   "execution_count": 47,
   "id": "52d971bb",
   "metadata": {},
   "outputs": [
    {
     "name": "stdout",
     "output_type": "stream",
     "text": [
      "s\n",
      "u\n",
      "n\n",
      "i\n",
      "l\n"
     ]
    }
   ],
   "source": [
    "for letter in \"sunil\":\n",
    "    print(letter)"
   ]
  },
  {
   "cell_type": "code",
   "execution_count": 48,
   "id": "5fd6ab3b",
   "metadata": {},
   "outputs": [
    {
     "data": {
      "text/plain": [
       "0"
      ]
     },
     "execution_count": 48,
     "metadata": {},
     "output_type": "execute_result"
    }
   ],
   "source": [
    "\"sunil\".index('s')"
   ]
  },
  {
   "cell_type": "code",
   "execution_count": 54,
   "id": "4d656a22",
   "metadata": {},
   "outputs": [
    {
     "ename": "TypeError",
     "evalue": "'list' object is not callable",
     "output_type": "error",
     "traceback": [
      "\u001b[1;31m---------------------------------------------------------------------------\u001b[0m",
      "\u001b[1;31mTypeError\u001b[0m                                 Traceback (most recent call last)",
      "\u001b[1;32m<ipython-input-54-3c175cab9cc8>\u001b[0m in \u001b[0;36m<module>\u001b[1;34m\u001b[0m\n\u001b[1;32m----> 1\u001b[1;33m \u001b[0mlist\u001b[0m\u001b[1;33m(\u001b[0m\u001b[0menumerate\u001b[0m\u001b[1;33m(\u001b[0m\u001b[1;34m'sunil'\u001b[0m\u001b[1;33m)\u001b[0m\u001b[1;33m)\u001b[0m\u001b[1;33m\u001b[0m\u001b[1;33m\u001b[0m\u001b[0m\n\u001b[0m",
      "\u001b[1;31mTypeError\u001b[0m: 'list' object is not callable"
     ]
    }
   ],
   "source": [
    "list(enumerate('sunil'))"
   ]
  },
  {
   "cell_type": "code",
   "execution_count": 1,
   "id": "8ef7ee78",
   "metadata": {},
   "outputs": [
    {
     "data": {
      "text/plain": [
       "[(0, 'a'), (1, 'b'), (2, 'c'), (3, 'd'), (4, 'e')]"
      ]
     },
     "execution_count": 1,
     "metadata": {},
     "output_type": "execute_result"
    }
   ],
   "source": [
    "list(enumerate('abcde'))"
   ]
  },
  {
   "cell_type": "code",
   "execution_count": 2,
   "id": "62b6d97b",
   "metadata": {},
   "outputs": [
    {
     "data": {
      "text/plain": [
       "['a', 'b', 'c', 'd', 'e']"
      ]
     },
     "execution_count": 2,
     "metadata": {},
     "output_type": "execute_result"
    }
   ],
   "source": [
    "list('abcde')"
   ]
  },
  {
   "cell_type": "code",
   "execution_count": 6,
   "id": "e033cbf2",
   "metadata": {},
   "outputs": [],
   "source": [
    "from random import shuffle\n",
    "list1=[1,2,3,4]"
   ]
  },
  {
   "cell_type": "code",
   "execution_count": 7,
   "id": "e61c498a",
   "metadata": {},
   "outputs": [],
   "source": [
    "shuffle(list1)"
   ]
  },
  {
   "cell_type": "code",
   "execution_count": 8,
   "id": "1b1dd6da",
   "metadata": {},
   "outputs": [
    {
     "data": {
      "text/plain": [
       "[1, 4, 2, 3]"
      ]
     },
     "execution_count": 8,
     "metadata": {},
     "output_type": "execute_result"
    }
   ],
   "source": [
    "list1"
   ]
  },
  {
   "cell_type": "code",
   "execution_count": 10,
   "id": "31fca7af",
   "metadata": {},
   "outputs": [],
   "source": [
    "list1.sort()"
   ]
  },
  {
   "cell_type": "code",
   "execution_count": 11,
   "id": "f1c6d09b",
   "metadata": {},
   "outputs": [
    {
     "data": {
      "text/plain": [
       "[1, 2, 3, 4]"
      ]
     },
     "execution_count": 11,
     "metadata": {},
     "output_type": "execute_result"
    }
   ],
   "source": [
    "list1"
   ]
  },
  {
   "cell_type": "code",
   "execution_count": 12,
   "id": "f087670a",
   "metadata": {},
   "outputs": [],
   "source": [
    "shuffle(list1)"
   ]
  },
  {
   "cell_type": "code",
   "execution_count": 13,
   "id": "f0a6643f",
   "metadata": {},
   "outputs": [
    {
     "data": {
      "text/plain": [
       "[3, 4, 2, 1]"
      ]
     },
     "execution_count": 13,
     "metadata": {},
     "output_type": "execute_result"
    }
   ],
   "source": [
    "list1"
   ]
  },
  {
   "cell_type": "code",
   "execution_count": 17,
   "id": "70526346",
   "metadata": {},
   "outputs": [
    {
     "data": {
      "text/plain": [
       "33"
      ]
     },
     "execution_count": 17,
     "metadata": {},
     "output_type": "execute_result"
    }
   ],
   "source": [
    "from random import randint\n",
    "randint(0,100)"
   ]
  },
  {
   "cell_type": "code",
   "execution_count": 18,
   "id": "be6ce6b5",
   "metadata": {},
   "outputs": [
    {
     "name": "stdout",
     "output_type": "stream",
     "text": [
      "enter some textgood\n"
     ]
    },
    {
     "data": {
      "text/plain": [
       "'good'"
      ]
     },
     "execution_count": 18,
     "metadata": {},
     "output_type": "execute_result"
    }
   ],
   "source": [
    "input(\"enter some text\")"
   ]
  },
  {
   "cell_type": "code",
   "execution_count": 19,
   "id": "ec0edf01",
   "metadata": {},
   "outputs": [
    {
     "name": "stdout",
     "output_type": "stream",
     "text": [
      "w\n",
      "o\n",
      "r\n",
      "d\n"
     ]
    }
   ],
   "source": [
    "for x in \"word\":\n",
    "    print(x)"
   ]
  },
  {
   "cell_type": "code",
   "execution_count": 20,
   "id": "c3da2a4f",
   "metadata": {},
   "outputs": [],
   "source": [
    "lst=[x for x in \"word\"]"
   ]
  },
  {
   "cell_type": "code",
   "execution_count": 21,
   "id": "13ba6ff0",
   "metadata": {},
   "outputs": [
    {
     "data": {
      "text/plain": [
       "['w', 'o', 'r', 'd']"
      ]
     },
     "execution_count": 21,
     "metadata": {},
     "output_type": "execute_result"
    }
   ],
   "source": [
    "lst"
   ]
  },
  {
   "cell_type": "code",
   "execution_count": 22,
   "id": "79e7beb4",
   "metadata": {},
   "outputs": [],
   "source": [
    "lst=[x**2 for x in range(1,11)]"
   ]
  },
  {
   "cell_type": "code",
   "execution_count": 23,
   "id": "47168772",
   "metadata": {},
   "outputs": [
    {
     "data": {
      "text/plain": [
       "[1, 4, 9, 16, 25, 36, 49, 64, 81, 100]"
      ]
     },
     "execution_count": 23,
     "metadata": {},
     "output_type": "execute_result"
    }
   ],
   "source": [
    "lst"
   ]
  },
  {
   "cell_type": "code",
   "execution_count": 24,
   "id": "27498887",
   "metadata": {},
   "outputs": [
    {
     "data": {
      "text/plain": [
       "[2, 4, 6, 8, 10]"
      ]
     },
     "execution_count": 24,
     "metadata": {},
     "output_type": "execute_result"
    }
   ],
   "source": [
    "[x for x in range(1,11) if x%2==0]"
   ]
  },
  {
   "cell_type": "code",
   "execution_count": 25,
   "id": "93358a06",
   "metadata": {},
   "outputs": [],
   "source": [
    "st = 'Print only the words that start with s in this sentence'"
   ]
  },
  {
   "cell_type": "code",
   "execution_count": 26,
   "id": "f4421fe9",
   "metadata": {},
   "outputs": [
    {
     "data": {
      "text/plain": [
       "['Print',\n",
       " 'only',\n",
       " 'the',\n",
       " 'words',\n",
       " 'that',\n",
       " 'start',\n",
       " 'with',\n",
       " 's',\n",
       " 'in',\n",
       " 'this',\n",
       " 'sentence']"
      ]
     },
     "execution_count": 26,
     "metadata": {},
     "output_type": "execute_result"
    }
   ],
   "source": [
    "st.split()"
   ]
  },
  {
   "cell_type": "code",
   "execution_count": 27,
   "id": "bc5ed642",
   "metadata": {},
   "outputs": [
    {
     "name": "stdout",
     "output_type": "stream",
     "text": [
      "start\n",
      "s\n",
      "sentence\n"
     ]
    }
   ],
   "source": [
    "for word in st.split():\n",
    "    if word[0]=='s':\n",
    "        print(word)"
   ]
  },
  {
   "cell_type": "code",
   "execution_count": 28,
   "id": "7bf6e058",
   "metadata": {},
   "outputs": [
    {
     "name": "stdout",
     "output_type": "stream",
     "text": [
      "only\n",
      "that\n",
      "with\n",
      "in\n",
      "this\n",
      "sentence\n"
     ]
    }
   ],
   "source": [
    "for word in st.split():\n",
    "    if len(word)%2==0:\n",
    "        print(word)"
   ]
  },
  {
   "cell_type": "code",
   "execution_count": 5,
   "id": "6a48db2d",
   "metadata": {},
   "outputs": [
    {
     "name": "stdout",
     "output_type": "stream",
     "text": [
      "1\n",
      "2\n",
      "fizz\n",
      "4\n",
      "buzz\n",
      "fizz\n",
      "7\n",
      "8\n",
      "fizz\n",
      "buzz\n",
      "11\n",
      "fizz\n",
      "13\n",
      "14\n",
      "fizzbuzz\n",
      "16\n",
      "17\n",
      "fizz\n",
      "19\n",
      "buzz\n",
      "fizz\n",
      "22\n",
      "23\n",
      "fizz\n",
      "buzz\n",
      "26\n",
      "fizz\n",
      "28\n",
      "29\n",
      "fizzbuzz\n",
      "31\n",
      "32\n",
      "fizz\n",
      "34\n",
      "buzz\n",
      "fizz\n",
      "37\n",
      "38\n",
      "fizz\n",
      "buzz\n",
      "41\n",
      "fizz\n",
      "43\n",
      "44\n",
      "fizzbuzz\n",
      "46\n",
      "47\n",
      "fizz\n",
      "49\n",
      "buzz\n"
     ]
    }
   ],
   "source": [
    "for i in list(range(1,51)):\n",
    "    if i%3==0:\n",
    "        if i%5==0:\n",
    "            print(\"fizzbuzz\")\n",
    "        else:\n",
    "            print(\"fizz\")\n",
    "    elif i%5==0:\n",
    "        print(\"buzz\")\n",
    "    else:\n",
    "        print(i)"
   ]
  },
  {
   "cell_type": "code",
   "execution_count": 6,
   "id": "96503418",
   "metadata": {},
   "outputs": [],
   "source": [
    "from random import randint"
   ]
  },
  {
   "cell_type": "code",
   "execution_count": 44,
   "id": "a670f1d2",
   "metadata": {},
   "outputs": [],
   "source": [
    "computer_num=randint(1,101)"
   ]
  },
  {
   "cell_type": "code",
   "execution_count": 45,
   "id": "8729f7e5",
   "metadata": {},
   "outputs": [
    {
     "data": {
      "text/plain": [
       "48"
      ]
     },
     "execution_count": 45,
     "metadata": {},
     "output_type": "execute_result"
    }
   ],
   "source": [
    "computer_num"
   ]
  },
  {
   "cell_type": "code",
   "execution_count": 46,
   "id": "3600838f",
   "metadata": {},
   "outputs": [],
   "source": [
    "diff_list=[]\n"
   ]
  },
  {
   "cell_type": "code",
   "execution_count": null,
   "id": "3ca31e55",
   "metadata": {},
   "outputs": [
    {
     "name": "stdout",
     "output_type": "stream",
     "text": [
      "enter your guess :\t100\n",
      "[52]\n",
      "cold\n",
      "enter your guess :\t90\n",
      "[52, 42]\n",
      "enter your guess :\t80\n",
      "[52, 42, 32]\n",
      "enter your guess :\t70\n",
      "[52, 42, 32, 22]\n",
      "enter your guess :\t60\n",
      "[52, 42, 32, 22, 12]\n",
      "enter your guess :\t50\n",
      "[52, 42, 32, 22, 12, 2]\n",
      "warmer\n",
      "enter your guess :\t40\n",
      "[52, 42, 32, 22, 12, 2, 8]\n",
      "enter your guess :\t45\n",
      "[52, 42, 32, 22, 12, 2, 8, 3]\n",
      "warmer\n"
     ]
    }
   ],
   "source": [
    "while True:\n",
    "    user_num=int(input(\"enter your guess :\\t\"))\n",
    "    diff=abs(computer_num-user_num)\n",
    "    diff_list.append(diff)\n",
    "    print(diff_list)\n",
    "    if diff==0:\n",
    "        print(\"you got it\")\n",
    "        break\n",
    "    if len(diff_list)==1:\n",
    "        if diff<=10:\n",
    "            print(\"warm\")\n",
    "        else:\n",
    "            print(\"cold\")\n",
    "    elif len(diff_list)>1:\n",
    "        if diff<=10:\n",
    "            if diff_list[-1]<diff_list[-2]:\n",
    "                print(\"warmer\")\n",
    "        if diff>10:\n",
    "            if diff_list[-1]>diff_list[-2]:\n",
    "                print(\"colder\")"
   ]
  },
  {
   "cell_type": "code",
   "execution_count": 1,
   "id": "fe770b89",
   "metadata": {},
   "outputs": [],
   "source": [
    "#number guessing game"
   ]
  },
  {
   "cell_type": "code",
   "execution_count": 7,
   "id": "4618682b",
   "metadata": {},
   "outputs": [
    {
     "name": "stdout",
     "output_type": "stream",
     "text": [
      "63\n"
     ]
    }
   ],
   "source": [
    "from random import randint\n",
    "computer_guess=randint(1,101)\n",
    "print(computer_guess)   "
   ]
  },
  {
   "cell_type": "code",
   "execution_count": 9,
   "id": "1a39b9b7",
   "metadata": {},
   "outputs": [
    {
     "name": "stdout",
     "output_type": "stream",
     "text": [
      "enter your guess10\n",
      "cold\n",
      "enter your guess20\n",
      "cold\n",
      "enter your guess30\n",
      "cold\n",
      "enter your guess25\n",
      "colder\n",
      "enter your guess40\n",
      "cold\n",
      "enter your guess50\n",
      "cold\n",
      "enter your guess60\n",
      "warm\n",
      "enter your guess70\n",
      "warm\n",
      "enter your guess80\n",
      "colder\n",
      "enter your guess70\n",
      "warm\n",
      "enter your guess65\n",
      "warmer\n",
      "enter your guess66\n",
      "warm\n",
      "enter your guess64\n",
      "warmer\n",
      "enter your guess63\n",
      "you got it,number is :63\n"
     ]
    }
   ],
   "source": [
    "diff_warm=[]\n",
    "diff_cold=[]\n",
    "while True:\n",
    "    user_guess=int(input(\"enter your guess\"))\n",
    "    diff=abs(user_guess-computer_guess)\n",
    "    \n",
    "    if diff==0:\n",
    "        print(\"you got it,number is :{}\".format(user_guess))\n",
    "        break\n",
    "    elif diff<=10:\n",
    "        diff_warm.append(diff)\n",
    "        if len(diff_warm)==1:\n",
    "            print(\"warm\")\n",
    "        elif diff_warm[-1]<diff_warm[-2]:\n",
    "            print(\"warmer\")\n",
    "        else:\n",
    "            print(\"warm\")\n",
    "    else:\n",
    "        diff_cold.append(diff)\n",
    "        if len(diff_cold)==1:\n",
    "            print(\"cold\")\n",
    "        elif diff_cold[-1]>diff_cold[-2]:\n",
    "            print(\"colder\")\n",
    "        else:\n",
    "            print(\"cold\")\n",
    "        "
   ]
  },
  {
   "cell_type": "code",
   "execution_count": 10,
   "id": "d76b305b",
   "metadata": {},
   "outputs": [
    {
     "data": {
      "text/plain": [
       "'C:\\\\Users\\\\sunil'"
      ]
     },
     "execution_count": 10,
     "metadata": {},
     "output_type": "execute_result"
    }
   ],
   "source": [
    "pwd"
   ]
  },
  {
   "cell_type": "code",
   "execution_count": null,
   "id": "a52dddab",
   "metadata": {},
   "outputs": [],
   "source": []
  }
 ],
 "metadata": {
  "kernelspec": {
   "display_name": "Python 3",
   "language": "python",
   "name": "python3"
  },
  "language_info": {
   "codemirror_mode": {
    "name": "ipython",
    "version": 3
   },
   "file_extension": ".py",
   "mimetype": "text/x-python",
   "name": "python",
   "nbconvert_exporter": "python",
   "pygments_lexer": "ipython3",
   "version": "3.8.8"
  }
 },
 "nbformat": 4,
 "nbformat_minor": 5
}
