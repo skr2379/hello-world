{
  "nbformat": 4,
  "nbformat_minor": 0,
  "metadata": {
    "colab": {
      "name": "cipher_code_decode.ipynb",
      "provenance": []
    },
    "kernelspec": {
      "name": "python3",
      "display_name": "Python 3"
    },
    "language_info": {
      "name": "python"
    }
  },
  "cells": [
    {
      "cell_type": "code",
      "metadata": {
        "id": "qf7SCSRMYF8x"
      },
      "source": [
        "#### ceaser cipher encode and decode"
      ],
      "execution_count": 2,
      "outputs": []
    },
    {
      "cell_type": "code",
      "metadata": {
        "id": "ecTrSEzZYdi-"
      },
      "source": [
        "def encode(message):\n",
        "  alpha = string.ascii_lowercase + string.ascii_lowercase\n",
        "  code_message = \"\"\n",
        "  for char in message:\n",
        "    if char == ' ':\n",
        "      code = char\n",
        "    else:\n",
        "      code = alpha[alpha.index(char)+5]\n",
        "    code_message += code\n",
        "  return  code_message\n",
        "\n",
        "\n",
        "  "
      ],
      "execution_count": 31,
      "outputs": []
    },
    {
      "cell_type": "code",
      "metadata": {
        "colab": {
          "base_uri": "https://localhost:8080/"
        },
        "id": "CdlKU_66ZiJv",
        "outputId": "bf983bb6-985b-41f1-f214-ba1db5532350"
      },
      "source": [
        "import string\n",
        "cipher_code = encode(\"hello devika\")\n",
        "print(cipher_code)"
      ],
      "execution_count": 32,
      "outputs": [
        {
          "output_type": "stream",
          "name": "stdout",
          "text": [
            "mjqqt ijanpf\n"
          ]
        }
      ]
    },
    {
      "cell_type": "code",
      "metadata": {
        "id": "XTgem27_Z5Po"
      },
      "source": [
        "def decode(message):\n",
        "  alpha = string.ascii_lowercase \n",
        "  decode_message = \"\"\n",
        "  for char in message:\n",
        "    if char == ' ':\n",
        "      decode = char\n",
        "    else:\n",
        "      decode = alpha[alpha.index(char)-5]\n",
        "    decode_message += decode\n",
        "  return  decode_message"
      ],
      "execution_count": 33,
      "outputs": []
    },
    {
      "cell_type": "code",
      "metadata": {
        "colab": {
          "base_uri": "https://localhost:8080/"
        },
        "id": "XEVMjz8TbAX8",
        "outputId": "86325f39-6edb-441e-f3dc-960f0beb9b64"
      },
      "source": [
        "cipher_decode = decode(cipher_code)\n",
        "print(cipher_decode)"
      ],
      "execution_count": 34,
      "outputs": [
        {
          "output_type": "stream",
          "name": "stdout",
          "text": [
            "hello devika\n"
          ]
        }
      ]
    },
    {
      "cell_type": "code",
      "metadata": {
        "id": "aj-0GZ4-bSdU"
      },
      "source": [
        ""
      ],
      "execution_count": null,
      "outputs": []
    }
  ]
}