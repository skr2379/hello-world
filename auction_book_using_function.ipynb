{
  "nbformat": 4,
  "nbformat_minor": 0,
  "metadata": {
    "colab": {
      "name": "auction_book_using_function.ipynb",
      "provenance": []
    },
    "kernelspec": {
      "name": "python3",
      "display_name": "Python 3"
    },
    "language_info": {
      "name": "python"
    }
  },
  "cells": [
    {
      "cell_type": "markdown",
      "metadata": {
        "id": "GgxX6w9HkE7S"
      },
      "source": [
        "Auction Book"
      ]
    },
    {
      "cell_type": "code",
      "metadata": {
        "id": "8uz9qSRQ5DAm"
      },
      "source": [
        "def start_auction():\n",
        "  auction_continue = True\n",
        "  \n",
        "  while auction_continue == True:\n",
        "    choice = input(\"is there any one to bid : y/n\\t\")\n",
        "    if choice == 'n':\n",
        "      auction_continue = False\n",
        "    elif choice =='y':\n",
        "      name = input(\"please enter your name:\\t\")\n",
        "      bid = int(input(\"please enter your bid:\\t\"))\n",
        "      dict[name] = bid\n",
        "    else:\n",
        "      print(\"~~~~~~~~~~~~~~~~!please make correct choice!~~~~~~~~~~~~~~~~~~~~~~~~\")\n",
        "\n",
        "  return dict\n",
        "def auction_winner(data):\n",
        "  highest_bid = 0\n",
        "  \n",
        "  for key, value in data.items():\n",
        "    print(f\"bid value of {key} is \\t{value}\")\n",
        "    if data[key]>highest_bid:\n",
        "      highest_bid = data[key]\n",
        "      \n",
        "  print(f\"~~~~~~~~~~~~~~~~~~~{highest_bid},is highest bid~~~~~~~~~~~~~~~~~\")\n",
        "  for key, value in data.items():\n",
        "    \n",
        "    if data[key] == highest_bid:\n",
        "      print(f\"~~~~~~~~~~~~~~~~{key}, is winner~~~~~~~~~~~~~~~~~~~~\")  \n",
        "\n",
        "    "
      ],
      "execution_count": 145,
      "outputs": []
    },
    {
      "cell_type": "code",
      "metadata": {
        "id": "freN_4g-DEfW",
        "colab": {
          "base_uri": "https://localhost:8080/"
        },
        "outputId": "4ba73568-d172-482a-fbea-e06a737404fe"
      },
      "source": [
        "print(\"~~~~~~~~~~~~~~~welcome to auction~~~~~~~~~~~~~~~~~~~~~~~~~~~\")\n",
        "data = start_auction()\n",
        "print(data)\n",
        "print(\"~~~~~~~~~~~~~~~~time to announce the winner~~~~~~~~~~~~~~~~~\")\n",
        "auction_winner(data)\n",
        "print(\"~~~~~~~~~~~~~~~~~auction ends~~~~~~~~~~~~~~~~~~~~~~~~~~~~~~~~~\")\n"
      ],
      "execution_count": 147,
      "outputs": [
        {
          "output_type": "stream",
          "name": "stdout",
          "text": [
            "~~~~~~~~~~~~~~~welcome to auction~~~~~~~~~~~~~~~~~~~~~~~~~~~\n",
            "is there any one to bid : y/n\tn\n",
            "{'b': 30, 'c': 40, 'd': 25, 'anand': 300, 's': 100, 'k': 200, 'pradeep': 600, 'yash ': 400}\n",
            "~~~~~~~~~~~~~~~~time to announce the winner~~~~~~~~~~~~~~~~~\n",
            "bid value of b is \t30\n",
            "bid value of c is \t40\n",
            "bid value of d is \t25\n",
            "bid value of anand is \t300\n",
            "bid value of s is \t100\n",
            "bid value of k is \t200\n",
            "bid value of pradeep is \t600\n",
            "bid value of yash  is \t400\n",
            "~~~~~~~~~~~~~~~~~~~600,is highest bid~~~~~~~~~~~~~~~~~\n",
            "~~~~~~~~~~~~~~~~pradeep, is winner~~~~~~~~~~~~~~~~~~~~\n",
            "~~~~~~~~~~~~~~~~~auction ends~~~~~~~~~~~~~~~~~~~~~~~~~~~~~~~~~\n"
          ]
        }
      ]
    },
    {
      "cell_type": "code",
      "metadata": {
        "id": "biClpNtLQPa-"
      },
      "source": [
        ""
      ],
      "execution_count": null,
      "outputs": []
    }
  ]
}