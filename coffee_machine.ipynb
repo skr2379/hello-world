{
  "nbformat": 4,
  "nbformat_minor": 0,
  "metadata": {
    "colab": {
      "name": "coffee_machine.ipynb",
      "provenance": []
    },
    "kernelspec": {
      "name": "python3",
      "display_name": "Python 3"
    },
    "language_info": {
      "name": "python"
    }
  },
  "cells": [
    {
      "cell_type": "markdown",
      "metadata": {
        "id": "mXxr9aq7sZ6y"
      },
      "source": [
        "**Coffee Machine Project**"
      ]
    },
    {
      "cell_type": "code",
      "metadata": {
        "id": "HC0XC0KssxkH"
      },
      "source": [
        "def menu():\n",
        "  data = [{'name':\"CAPPUCCINO\",'price':100},{'name':\"LATTE\",'price':150},{'name':\"ESPRESSO\",'price':70}]\n",
        "  print(\"Coffee Flavours           Price\")\n",
        "  print(\"-------------------------------\")\n",
        "  for i in range(len(data)):\n",
        "    print(f\"{i+1}. {data[i]['name']}{' '*(20-len(data[i]['name']))} {' '*(4-len(str(data[i]['price'])))}  {data[i]['price']}\")"
      ],
      "execution_count": 26,
      "outputs": []
    },
    {
      "cell_type": "code",
      "metadata": {
        "colab": {
          "base_uri": "https://localhost:8080/"
        },
        "id": "A5fRhlRt0zB0",
        "outputId": "7d5bfc2c-1cec-4375-9c2b-a3439b40621a"
      },
      "source": [
        "menu()"
      ],
      "execution_count": 27,
      "outputs": [
        {
          "output_type": "stream",
          "name": "stdout",
          "text": [
            "Coffee Flavours           Price\n",
            "-------------------------------\n",
            "1. CAPPUCCINO              100\n",
            "2. LATTE                   150\n",
            "3. ESPRESSO                 70\n"
          ]
        }
      ]
    },
    {
      "cell_type": "code",
      "metadata": {
        "id": "1WPGc5yt8n9M"
      },
      "source": [
        "def bank_details():\n",
        "  customer_list = [{'name':'c1','balance':1000,'pin':1234,'acc':4567},\n",
        "                   {'name':'c2','balance':1100,'pin':1235,'acc':4568},\n",
        "                   {'name':'c3','balance':1200,'pin':1236,'acc':4569},\n",
        "                   {'name':'c4','balance':1300,'pin':1237,'acc':4566},\n",
        "                   {'name':'c5','balance':1400,'pin':1238,'acc':4565},\n",
        "                   {'name':'c6','balance':1500,'pin':1239,'acc':4564}]\n",
        "  customer_names= []\n",
        "  customer_acc = []\n",
        "  customer_pin = []\n",
        "  customer_balance = []\n",
        "  for i in range(len(customer_list)):\n",
        "    customer_names.append(customer_list[i]['name'])\n",
        "    customer_acc.append(customer_list[i]['acc'])\n",
        "    customer_pin.append(customer_list[i]['pin'])\n",
        "    customer_balance.append(customer_list[i]['balance'])\n",
        "    customer_details = [customer_names,customer_acc,customer_pin,customer_balance]\n",
        "  return customer_details"
      ],
      "execution_count": 63,
      "outputs": []
    },
    {
      "cell_type": "code",
      "metadata": {
        "colab": {
          "base_uri": "https://localhost:8080/"
        },
        "id": "LS_Fx-FxsNZF",
        "outputId": "4ac539cc-f64a-4a6d-ef58-3f00a19a8da7"
      },
      "source": [
        "print(\"~~~~~~~~~~~~~~welcome to SK Cofee Paradise~~~~~~~~~~~~~~~~~~~~~~\")"
      ],
      "execution_count": 1,
      "outputs": [
        {
          "output_type": "stream",
          "name": "stdout",
          "text": [
            "~~~~~~~~~~~~~~welcome to SK Cofee Paradise~~~~~~~~~~~~~~~~~~~~~~\n"
          ]
        }
      ]
    },
    {
      "cell_type": "code",
      "metadata": {
        "colab": {
          "base_uri": "https://localhost:8080/"
        },
        "id": "TfDS2myu48jI",
        "outputId": "89f66186-3705-4f17-87d5-86b3ee27b70f"
      },
      "source": [
        "\n",
        "choice = ''\n",
        "while choice not in ['C','L','E']:\n",
        "  choice = input(\"enter your flavour 'C' for cappuchino\\\n",
        "        'L' for latte, 'E' for espresso\").upper()\n",
        "  if choice == 'L':\n",
        "    print(\"you select LATTE\")\n",
        "    sure = input(\"are you sure with LATTE : y/n\\t\")\n",
        "    if sure == 'y':\n",
        "      print(\"your bill is rs : 150\")\n",
        "      bill = 150\n",
        "      pay_choice = input(\"choose payment option : cash/card\")\n",
        "      if pay_choice == 'card':\n",
        "        name = input(\"enter you name:\\t\")\n",
        "        acc = int(input(\"enter your acc:\\t\"))\n",
        "        e_details = [name, acc]\n",
        "        c_details = bank_details()\n",
        "        c_index = c_details[1].index(acc)\n",
        "        # print(c_index) \n",
        "        # print(c_details)\n",
        "        if  c_details[0][c_index] == e_details[0] and c_details[1][c_index] == e_details[1]:\n",
        "          print(\"customer account exist\")\n",
        "          c_pin = int(input(\"enter your pin:\\t\"))\n",
        "          # print(\"c_pin\", c_pin)\n",
        "          # print(\"c_details pin\",c_details[2])\n",
        "          if c_pin == c_details[2][c_index]:\n",
        "            \n",
        "            print(\"pin verified\")\n",
        "            if c_details[3][c_index]>=bill:\n",
        "              print(\"transaction successful\")\n",
        "              c_details[3][c_index] = c_details[3][c_index]-bill\n",
        "              print(f\"{bill} rs debited\\ncurrent balance available to {c_details[1][c_index]}\\nis {c_details[3][c_index]}\")\n",
        "            else:\n",
        "              print(\"transaction denied,not sufficient amount\")\n",
        "      else:\n",
        "        print(\"go to cash counter and pay your bill\")\n",
        "  if choice == 'C':\n",
        "    print(\"you select CAPPUCHINO\")\n",
        "    sure = input(\"are you sure with CAPPUCHINO : y/n\\t\")\n",
        "    if sure == 'y':\n",
        "      print(\"your bill is rs : 100\")\n",
        "      bill = 100\n",
        "      print(\"choose payment option : cash/card\")\n",
        "      if pay_choice == 'card':\n",
        "        name = input(\"enter you name:\\t\")\n",
        "        acc = int(input(\"enter your acc:\\t\"))\n",
        "        e_details = [name, acc]\n",
        "        c_details = bank_details()\n",
        "        c_index = c_details[1].index(acc)\n",
        "        # print(c_index) \n",
        "        # print(c_details)\n",
        "        if  c_details[0][c_index] == e_details[0] and c_details[1][c_index] == e_details[1]:\n",
        "          print(\"customer account exist\")\n",
        "          c_pin = int(input(\"enter your pin:\\t\"))\n",
        "          # print(\"c_pin\", c_pin)\n",
        "          # print(\"c_details pin\",c_details[2])\n",
        "          if c_pin == c_details[2][c_index]:\n",
        "            \n",
        "            print(\"pin verified\")\n",
        "            if c_details[3][c_index]>=bill:\n",
        "              print(\"transaction successful\")\n",
        "              c_details[3][c_index] = c_details[3][c_index]-bill\n",
        "              print(f\"{bill} rs debited\\ncurrent balance available to {c_details[1][c_index]}\\nis {c_details[3][c_index]}\")\n",
        "            else:\n",
        "              print(\"transaction denied,not sufficient amount\")\n",
        "      else:\n",
        "        print(\"go to cash counter and pay your bill\")\n",
        "  if choice == 'E':\n",
        "    print(\"you select ESPRESSO\")\n",
        "    sure = input(\"are you sure with ESPRESSO : y/n\\t\")\n",
        "    if sure == 'y':\n",
        "      print(\"your bill is rs : 70\")\n",
        "      bill = 70\n",
        "      print(\"choose payment option : cash/card\")\n",
        "      if pay_choice == 'card':\n",
        "        name = input(\"enter you name:\\t\")\n",
        "        acc = int(input(\"enter your acc:\\t\"))\n",
        "        e_details = [name, acc]\n",
        "        c_details = bank_details()\n",
        "        c_index = c_details[1].index(acc)\n",
        "        # print(c_index) \n",
        "        # print(c_details)\n",
        "        if  c_details[0][c_index] == e_details[0] and c_details[1][c_index] == e_details[1]:\n",
        "          print(\"customer account exist\")\n",
        "          c_pin = int(input(\"enter your pin:\\t\"))\n",
        "          # print(\"c_pin\", c_pin)\n",
        "          # print(\"c_details pin\",c_details[2])\n",
        "          if c_pin == c_details[2][c_index]:\n",
        "            \n",
        "            print(\"pin verified\")\n",
        "            if c_details[3][c_index]>=bill:\n",
        "              print(\"transaction successful\")\n",
        "              c_details[3][c_index] = c_details[3][c_index]-bill\n",
        "              print(f\"{bill} rs debited\\ncurrent balance available to {c_details[1][c_index]}\\nis {c_details[3][c_index]}\")\n",
        "            else:\n",
        "              print(\"transaction denied,not sufficient amount\")\n",
        "      else:\n",
        "        print(\"go to cash counter and pay your bill\")\n",
        "\n"
      ],
      "execution_count": 76,
      "outputs": [
        {
          "output_type": "stream",
          "name": "stdout",
          "text": [
            "enter your flavour 'C' for cappuchino        'L' for latte, 'E' for espressol\n",
            "you select LATTE\n",
            "are you sure with LATTE : y/n\ty\n",
            "your bill is rs : 150\n",
            "choose payment option : cash/cardcard\n",
            "enter you name:\tc2\n",
            "enter your acc:\t4568\n",
            "customer account exist\n",
            "enter your pin:\t1235\n",
            "pin verified\n",
            "transaction successful\n",
            "150 rs debited\n",
            "current balance available to 4568\n",
            "is 950\n"
          ]
        }
      ]
    },
    {
      "cell_type": "code",
      "metadata": {
        "id": "ladz0NOrUUYk"
      },
      "source": [
        ""
      ],
      "execution_count": null,
      "outputs": []
    }
  ]
}