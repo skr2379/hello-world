{
 "cells": [
  {
   "cell_type": "code",
   "execution_count": 17,
   "id": "78e0b34e",
   "metadata": {},
   "outputs": [],
   "source": [
    "def display_board(list1):\n",
    "    \n",
    "    print(list1[0:3])\n",
    "    print(list1[3:6])\n",
    "    print(list1[6:9])\n",
    "    return list1"
   ]
  },
  {
   "cell_type": "code",
   "execution_count": 21,
   "id": "ce82d0da",
   "metadata": {},
   "outputs": [],
   "source": [
    "def game():\n",
    "    list1=['_']*9\n",
    "    count=0\n",
    "    choice1=input(\"player1 ready to play : y/n \\t\")\n",
    "    if choice1=='n':\n",
    "        print(\"sorry game can't be started\")\n",
    "        print(\"2 players required to play\")\n",
    "        \n",
    "    if choice1=='y':\n",
    "        choice2=input(\"player2 ready to play : y/n \\t\")\n",
    "        if choice2=='n':\n",
    "            print(\"sorry game can't be started\")\n",
    "            print(\"2 players required to play\")\n",
    "            \n",
    "        elif choice2=='y':\n",
    "            print(\"welcome to game of tic-tac-toe\")\n",
    "            \n",
    "            list_1=display_board(list1)\n",
    "            #print(list_1)\n",
    "            pos_avail=[1,2,3,4,5,6,7,8,9]\n",
    "            while '_' in list1:\n",
    "                player_code=int(input(\"enter player code : 1 or 2 \\t\"))\n",
    "                position=int(input(\"enter the position you want to replace\"))\n",
    "                if position in pos_avail:\n",
    "                    pos_avail.remove(position)\n",
    "                    if player_code==1:\n",
    "                        list_1[position-1]='X'\n",
    "                        display_board(list1)\n",
    "                        count+=1\n",
    "                    elif player_code==2:\n",
    "                        list_1[position-1]='O'\n",
    "                        display_board(list1)\n",
    "                        count+=1\n",
    "                    if count>=5:\n",
    "                        if (list1[0]==list1[1]==list1[2] and list1[0]=='X')  or (list1[3]==list1[4]==list1[5] and list1[3]=='X') or (list1[6]==list1[7]==list1[8] and list1[6]=='X') or (list1[0]==list1[4]==list1[8] and list1[0]=='X') or(list1[2]==list1[4]==list1[6] and list1[2]=='X'):\n",
    "                            print(\"player1 wins\")\n",
    "                            break\n",
    "                        if (list1[0]==list1[1]==list1[2] and list1[0]=='O')  or(list1[3]==list1[4]==list1[5] and list1[3]=='O') or(list1[6]==list1[7]==list1[8] and list1[6]=='O') or (list1[0]==list1[4]==list1[8] and list1[0]=='O') or(list1[2]==list1[4]==list1[6] and list1[2]=='O'):\n",
    "                            print(\"player2 wins\")\n",
    "                            break\n",
    "                    elif count==9:\n",
    "                        print(\"game end,no result\")\n",
    "                else:\n",
    "                    print(\"this position is not available to change\")\n"
   ]
  },
  {
   "cell_type": "code",
   "execution_count": 23,
   "id": "f5cfa7b3",
   "metadata": {},
   "outputs": [
    {
     "name": "stdout",
     "output_type": "stream",
     "text": [
      "player1 ready to play : y/n \ty\n",
      "player2 ready to play : y/n \ty\n",
      "welcome to game of tic-tac-toe\n",
      "['_', '_', '_']\n",
      "['_', '_', '_']\n",
      "['_', '_', '_']\n",
      "enter player code : 1 or 2 \t1\n",
      "enter the position you want to replace1\n",
      "['X', '_', '_']\n",
      "['_', '_', '_']\n",
      "['_', '_', '_']\n",
      "enter player code : 1 or 2 \t2\n",
      "enter the position you want to replace1\n",
      "this position is not available to change\n",
      "enter player code : 1 or 2 \t2\n",
      "enter the position you want to replace2\n",
      "['X', 'O', '_']\n",
      "['_', '_', '_']\n",
      "['_', '_', '_']\n",
      "enter player code : 1 or 2 \ty\n"
     ]
    },
    {
     "ename": "ValueError",
     "evalue": "invalid literal for int() with base 10: 'y'",
     "output_type": "error",
     "traceback": [
      "\u001b[1;31m---------------------------------------------------------------------------\u001b[0m",
      "\u001b[1;31mValueError\u001b[0m                                Traceback (most recent call last)",
      "\u001b[1;32m<ipython-input-23-4a8413945148>\u001b[0m in \u001b[0;36m<module>\u001b[1;34m\u001b[0m\n\u001b[1;32m----> 1\u001b[1;33m \u001b[0mgame\u001b[0m\u001b[1;33m(\u001b[0m\u001b[1;33m)\u001b[0m\u001b[1;33m\u001b[0m\u001b[1;33m\u001b[0m\u001b[0m\n\u001b[0m",
      "\u001b[1;32m<ipython-input-21-b5c150b2e5f3>\u001b[0m in \u001b[0;36mgame\u001b[1;34m()\u001b[0m\n\u001b[0;32m     20\u001b[0m             \u001b[0mpos_avail\u001b[0m\u001b[1;33m=\u001b[0m\u001b[1;33m[\u001b[0m\u001b[1;36m1\u001b[0m\u001b[1;33m,\u001b[0m\u001b[1;36m2\u001b[0m\u001b[1;33m,\u001b[0m\u001b[1;36m3\u001b[0m\u001b[1;33m,\u001b[0m\u001b[1;36m4\u001b[0m\u001b[1;33m,\u001b[0m\u001b[1;36m5\u001b[0m\u001b[1;33m,\u001b[0m\u001b[1;36m6\u001b[0m\u001b[1;33m,\u001b[0m\u001b[1;36m7\u001b[0m\u001b[1;33m,\u001b[0m\u001b[1;36m8\u001b[0m\u001b[1;33m,\u001b[0m\u001b[1;36m9\u001b[0m\u001b[1;33m]\u001b[0m\u001b[1;33m\u001b[0m\u001b[1;33m\u001b[0m\u001b[0m\n\u001b[0;32m     21\u001b[0m             \u001b[1;32mwhile\u001b[0m \u001b[1;34m'_'\u001b[0m \u001b[1;32min\u001b[0m \u001b[0mlist1\u001b[0m\u001b[1;33m:\u001b[0m\u001b[1;33m\u001b[0m\u001b[1;33m\u001b[0m\u001b[0m\n\u001b[1;32m---> 22\u001b[1;33m                 \u001b[0mplayer_code\u001b[0m\u001b[1;33m=\u001b[0m\u001b[0mint\u001b[0m\u001b[1;33m(\u001b[0m\u001b[0minput\u001b[0m\u001b[1;33m(\u001b[0m\u001b[1;34m\"enter player code : 1 or 2 \\t\"\u001b[0m\u001b[1;33m)\u001b[0m\u001b[1;33m)\u001b[0m\u001b[1;33m\u001b[0m\u001b[1;33m\u001b[0m\u001b[0m\n\u001b[0m\u001b[0;32m     23\u001b[0m                 \u001b[0mposition\u001b[0m\u001b[1;33m=\u001b[0m\u001b[0mint\u001b[0m\u001b[1;33m(\u001b[0m\u001b[0minput\u001b[0m\u001b[1;33m(\u001b[0m\u001b[1;34m\"enter the position you want to replace\"\u001b[0m\u001b[1;33m)\u001b[0m\u001b[1;33m)\u001b[0m\u001b[1;33m\u001b[0m\u001b[1;33m\u001b[0m\u001b[0m\n\u001b[0;32m     24\u001b[0m                 \u001b[1;32mif\u001b[0m \u001b[0mposition\u001b[0m \u001b[1;32min\u001b[0m \u001b[0mpos_avail\u001b[0m\u001b[1;33m:\u001b[0m\u001b[1;33m\u001b[0m\u001b[1;33m\u001b[0m\u001b[0m\n",
      "\u001b[1;31mValueError\u001b[0m: invalid literal for int() with base 10: 'y'"
     ]
    }
   ],
   "source": [
    "game()"
   ]
  },
  {
   "cell_type": "code",
   "execution_count": null,
   "id": "9a17e7a8",
   "metadata": {},
   "outputs": [],
   "source": []
  }
 ],
 "metadata": {
  "kernelspec": {
   "display_name": "Python 3",
   "language": "python",
   "name": "python3"
  },
  "language_info": {
   "codemirror_mode": {
    "name": "ipython",
    "version": 3
   },
   "file_extension": ".py",
   "mimetype": "text/x-python",
   "name": "python",
   "nbconvert_exporter": "python",
   "pygments_lexer": "ipython3",
   "version": "3.8.8"
  }
 },
 "nbformat": 4,
 "nbformat_minor": 5
}
