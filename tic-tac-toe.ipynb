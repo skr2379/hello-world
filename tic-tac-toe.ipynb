{
 "cells": [
  {
   "cell_type": "code",
   "execution_count": 2,
   "id": "94805912",
   "metadata": {},
   "outputs": [],
   "source": [
    "def display_board(list1):\n",
    "    \n",
    "    print(list1[0:3])\n",
    "    print(list1[3:6])\n",
    "    print(list1[6:9])\n",
    "    return list1"
   ]
  },
  {
   "cell_type": "code",
   "execution_count": 3,
   "id": "12f9e0b4",
   "metadata": {},
   "outputs": [],
   "source": [
    "def game():\n",
    "    list1=['_']*9\n",
    "    count=0\n",
    "    choice1=input(\"player1 ready to play : y/n \\t\")\n",
    "    if choice1=='n':\n",
    "        print(\"sorry game can't be started\")\n",
    "        print(\"2 players required to play\")\n",
    "        \n",
    "    if choice1=='y':\n",
    "        choice2=input(\"player2 ready to play : y/n \\t\")\n",
    "        if choice2=='n':\n",
    "            print(\"sorry game can't be started\")\n",
    "            print(\"2 players required to play\")\n",
    "            \n",
    "        elif choice2=='y':\n",
    "            print(\"welcome to game of tic-tac-toe\")\n",
    "            \n",
    "            list_1=display_board(list1)\n",
    "            #print(list_1)\n",
    "            while '_' in list1:\n",
    "                player_code=int(input(\"enter player code : 1 or 2 \\t\"))\n",
    "                position=int(input(\"enter the position you want to replace\"))\n",
    "                if player_code==1:\n",
    "                    list_1[position-1]='X'\n",
    "                    display_board(list1)\n",
    "                    count+=1\n",
    "                elif player_code==2:\n",
    "                    list_1[position-1]='O'\n",
    "                    display_board(list1)\n",
    "                    count+=1\n",
    "                if count>=5:\n",
    "                    if list1[0]==list1[1]==list1[2] and list1[0]=='X':\n",
    "                        print(\"player1 wins\")\n",
    "                        break\n",
    "                    if list1[3]==list1[4]==list1[5] and list1[3]=='X':\n",
    "                        print(\"player1 wins\")\n",
    "                        break\n",
    "                    if list1[6]==list1[7]==list1[8] and list1[6]=='X':\n",
    "                        print(\"player1 wins\")\n",
    "                        break\n",
    "                    if list1[0]==list1[4]==list1[8] and list1[0]=='X':\n",
    "                        print(\"player1 wins\")\n",
    "                        break\n",
    "                    if list1[2]==list1[4]==list1[6] and list1[2]=='X':\n",
    "                        print(\"player1 wins\")\n",
    "                        break\n",
    "                    if list1[0]==list1[1]==list1[2] and list1[0]=='O':\n",
    "                        print(\"player2 wins\")\n",
    "                        break\n",
    "                    if list1[3]==list1[4]==list1[5] and list1[3]=='O':\n",
    "                        print(\"player2 wins\")\n",
    "                        break\n",
    "                    if list1[6]==list1[7]==list1[8] and list1[6]=='O':\n",
    "                        print(\"player2 wins\")\n",
    "                        break\n",
    "                    if list1[0]==list1[4]==list1[8] and list1[0]=='O':\n",
    "                        print(\"player2 wins\")\n",
    "                        break\n",
    "                    if list1[2]==list1[4]==list1[6] and list1[2]=='O':\n",
    "                        print(\"player2 wins\")\n",
    "                        break\n",
    "                elif count==9:\n",
    "                    print(\"game end,no result\")"
   ]
  },
  {
   "cell_type": "code",
   "execution_count": 4,
   "id": "8d06d410",
   "metadata": {},
   "outputs": [
    {
     "name": "stdout",
     "output_type": "stream",
     "text": [
      "player1 ready to play : y/n \ty\n",
      "player2 ready to play : y/n \ty\n",
      "welcome to game of tic-tac-toe\n",
      "['_', '_', '_']\n",
      "['_', '_', '_']\n",
      "['_', '_', '_']\n",
      "enter player code : 1 or 2 \t1\n",
      "enter the position you want to replace1\n",
      "['X', '_', '_']\n",
      "['_', '_', '_']\n",
      "['_', '_', '_']\n",
      "enter player code : 1 or 2 \t2\n",
      "enter the position you want to replace4\n",
      "['X', '_', '_']\n",
      "['O', '_', '_']\n",
      "['_', '_', '_']\n",
      "enter player code : 1 or 2 \t1\n",
      "enter the position you want to replace2\n",
      "['X', 'X', '_']\n",
      "['O', '_', '_']\n",
      "['_', '_', '_']\n",
      "enter player code : 1 or 2 \t2\n",
      "enter the position you want to replace5\n",
      "['X', 'X', '_']\n",
      "['O', 'O', '_']\n",
      "['_', '_', '_']\n",
      "enter player code : 1 or 2 \t1\n",
      "enter the position you want to replace3\n",
      "['X', 'X', 'X']\n",
      "['O', 'O', '_']\n",
      "['_', '_', '_']\n",
      "player1 wins\n"
     ]
    }
   ],
   "source": [
    "game()"
   ]
  },
  {
   "cell_type": "code",
   "execution_count": null,
   "id": "99c1a1dc",
   "metadata": {},
   "outputs": [],
   "source": []
  }
 ],
 "metadata": {
  "kernelspec": {
   "display_name": "Python 3",
   "language": "python",
   "name": "python3"
  },
  "language_info": {
   "codemirror_mode": {
    "name": "ipython",
    "version": 3
   },
   "file_extension": ".py",
   "mimetype": "text/x-python",
   "name": "python",
   "nbconvert_exporter": "python",
   "pygments_lexer": "ipython3",
   "version": "3.8.8"
  }
 },
 "nbformat": 4,
 "nbformat_minor": 5
}
