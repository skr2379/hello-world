{
 "cells": [
  {
   "cell_type": "markdown",
   "id": "19db55ad",
   "metadata": {},
   "source": [
    "#### find the coin"
   ]
  },
  {
   "cell_type": "code",
   "execution_count": 3,
   "id": "97b8189b",
   "metadata": {},
   "outputs": [],
   "source": [
    "from random import shuffle"
   ]
  },
  {
   "cell_type": "code",
   "execution_count": 4,
   "id": "55778e25",
   "metadata": {},
   "outputs": [],
   "source": [
    "def guess_game_function():\n",
    "                my_list=[' ',' ','coin']\n",
    "                shuffle(my_list)\n",
    "                position_guess=''\n",
    "                while position_guess not in ['0','1','2']:\n",
    "                    position_guess=input(\"enter no --> 0, 1, 2 :\\t\")\n",
    "                print(position_guess)\n",
    "                print(my_list[int(position_guess)])\n",
    "                if my_list[int(position_guess)]=='coin':\n",
    "                    print(\"you won\")\n",
    "                else:\n",
    "                    print(\"better luck, next time\")\n",
    "def game_guess():\n",
    "    game=True\n",
    "    while game==True:\n",
    "        choice=input(\"want to play : y/n\")\n",
    "        if choice=='n':\n",
    "            print(\"good bye, have a nice day\")\n",
    "            game=False\n",
    "            break\n",
    "        else:\n",
    "            guess_game_function()\n",
    "            "
   ]
  },
  {
   "cell_type": "code",
   "execution_count": 5,
   "id": "28b13326",
   "metadata": {},
   "outputs": [
    {
     "name": "stdout",
     "output_type": "stream",
     "text": [
      "want to play : y/ny\n",
      "enter no --> 0, 1, 2 :\t1\n",
      "1\n",
      "coin\n",
      "you won\n",
      "want to play : y/nn\n",
      "good bye, have a nice day\n"
     ]
    }
   ],
   "source": [
    "game_guess()"
   ]
  },
  {
   "cell_type": "code",
   "execution_count": null,
   "id": "c3cbbff7",
   "metadata": {},
   "outputs": [],
   "source": []
  }
 ],
 "metadata": {
  "kernelspec": {
   "display_name": "Python 3",
   "language": "python",
   "name": "python3"
  },
  "language_info": {
   "codemirror_mode": {
    "name": "ipython",
    "version": 3
   },
   "file_extension": ".py",
   "mimetype": "text/x-python",
   "name": "python",
   "nbconvert_exporter": "python",
   "pygments_lexer": "ipython3",
   "version": "3.8.8"
  }
 },
 "nbformat": 4,
 "nbformat_minor": 5
}
