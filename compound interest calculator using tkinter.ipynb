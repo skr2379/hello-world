{
 "cells": [
  {
   "cell_type": "code",
   "execution_count": 1,
   "id": "469e0fe4",
   "metadata": {},
   "outputs": [],
   "source": [
    "# import tkinter module\n",
    "from tkinter import *\n",
    "\n",
    "# function for calculating compound interest\n",
    "def interest_calculator():\n",
    "    amount = int(principal_field.get())\n",
    "    rate = float(rate_field.get())\n",
    "    time = int(time_field.get())\n",
    "    result = amount* (1 + (rate/ 100))**time\n",
    "    result = round(result, 2)\n",
    "    ci_field.insert(10,result)\n",
    "\n",
    "# function to clear all fields\n",
    "def clear_all():\n",
    "    principal_field.delete(0, END)\n",
    "    rate_field.delete(0, END)\n",
    "    time_field.delete(0, END)\n",
    "    ci_field.delete(0, END)\n",
    "\n",
    "root = Tk()\n",
    "root.title(\"compound interest calculator\")\n",
    "\n",
    "Label(root, text = \"principal amount(rs)\").grid(column = 0, row = 0)\n",
    "Label(root, text = \"Rate(%)\").grid(column = 0, row = 1)\n",
    "Label(root, text = \"Time(years)\").grid(column = 0, row = 2)\n",
    "Label(root, text = \"compound interest(rs)\").grid(column = 0, row = 4)\n",
    "\n",
    "principal_field = Entry(root)\n",
    "principal_field.grid(column = 1, row = 0)\n",
    "\n",
    "rate_field = Entry(root)\n",
    "rate_field.grid(column = 1, row = 1)\n",
    "\n",
    "time_field = Entry(root)\n",
    "time_field.grid(column = 1, row = 2)\n",
    "\n",
    "ci_field = Entry(root)\n",
    "ci_field.grid(column = 1, row = 4)\n",
    "\n",
    "Button(root, text = \"Calculate\", command = interest_calculator).grid(column = 1, row = 3)\n",
    "Button(root, text = \"Clear\", command = clear_all).grid(column = 3, row = 3)\n",
    "\n",
    "root.mainloop()"
   ]
  },
  {
   "cell_type": "code",
   "execution_count": null,
   "id": "4df9b0ce",
   "metadata": {},
   "outputs": [],
   "source": []
  },
  {
   "cell_type": "code",
   "execution_count": null,
   "id": "739feff9",
   "metadata": {},
   "outputs": [],
   "source": []
  }
 ],
 "metadata": {
  "kernelspec": {
   "display_name": "Python 3",
   "language": "python",
   "name": "python3"
  },
  "language_info": {
   "codemirror_mode": {
    "name": "ipython",
    "version": 3
   },
   "file_extension": ".py",
   "mimetype": "text/x-python",
   "name": "python",
   "nbconvert_exporter": "python",
   "pygments_lexer": "ipython3",
   "version": "3.8.8"
  }
 },
 "nbformat": 4,
 "nbformat_minor": 5
}
