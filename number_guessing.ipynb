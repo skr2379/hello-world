{
 "cells": [
  {
   "cell_type": "markdown",
   "id": "8ab8ecae",
   "metadata": {},
   "source": [
    "#### number guessing game"
   ]
  },
  {
   "cell_type": "code",
   "execution_count": 1,
   "id": "b712f6f1",
   "metadata": {},
   "outputs": [
    {
     "name": "stdout",
     "output_type": "stream",
     "text": [
      "33\n"
     ]
    }
   ],
   "source": [
    "from random import randint\n",
    "computer_guess=randint(1,101)\n",
    "print(computer_guess)   "
   ]
  },
  {
   "cell_type": "code",
   "execution_count": 2,
   "id": "e3c07894",
   "metadata": {},
   "outputs": [
    {
     "name": "stdout",
     "output_type": "stream",
     "text": [
      "enter your guess10\n",
      "cold\n",
      "enter your guess20\n",
      "cold\n",
      "enter your guess30\n",
      "warm\n",
      "enter your guess40\n",
      "warm\n",
      "enter your guess50\n",
      "colder\n",
      "enter your guess45\n",
      "cold\n",
      "enter your guess40\n",
      "warm\n",
      "enter your guess35\n",
      "warmer\n",
      "enter your guess33\n",
      "you got it,number is :33\n"
     ]
    }
   ],
   "source": [
    "diff_warm=[]\n",
    "diff_cold=[]\n",
    "while True:\n",
    "    user_guess=int(input(\"enter your guess\"))\n",
    "    diff=abs(user_guess-computer_guess)\n",
    "    \n",
    "    if diff==0:\n",
    "        print(\"you got it,number is :{}\".format(user_guess))\n",
    "        break\n",
    "    elif diff<=10:\n",
    "        diff_warm.append(diff)\n",
    "        if len(diff_warm)==1:\n",
    "            print(\"warm\")\n",
    "        elif diff_warm[-1]<diff_warm[-2]:\n",
    "            print(\"warmer\")\n",
    "        else:\n",
    "            print(\"warm\")\n",
    "    else:\n",
    "        diff_cold.append(diff)\n",
    "        if len(diff_cold)==1:\n",
    "            print(\"cold\")\n",
    "        elif diff_cold[-1]>diff_cold[-2]:\n",
    "            print(\"colder\")\n",
    "        else:\n",
    "            print(\"cold\")\n",
    "        "
   ]
  },
  {
   "cell_type": "code",
   "execution_count": null,
   "id": "0a0c4e05",
   "metadata": {},
   "outputs": [],
   "source": []
  }
 ],
 "metadata": {
  "kernelspec": {
   "display_name": "Python 3",
   "language": "python",
   "name": "python3"
  },
  "language_info": {
   "codemirror_mode": {
    "name": "ipython",
    "version": 3
   },
   "file_extension": ".py",
   "mimetype": "text/x-python",
   "name": "python",
   "nbconvert_exporter": "python",
   "pygments_lexer": "ipython3",
   "version": "3.8.8"
  }
 },
 "nbformat": 4,
 "nbformat_minor": 5
}
