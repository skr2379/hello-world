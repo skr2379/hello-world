{
  "nbformat": 4,
  "nbformat_minor": 0,
  "metadata": {
    "colab": {
      "name": "travel_book.ipynb",
      "provenance": []
    },
    "kernelspec": {
      "name": "python3",
      "display_name": "Python 3"
    },
    "language_info": {
      "name": "python"
    }
  },
  "cells": [
    {
      "cell_type": "markdown",
      "metadata": {
        "id": "GgxX6w9HkE7S"
      },
      "source": [
        "Travel book "
      ]
    },
    {
      "cell_type": "code",
      "metadata": {
        "id": "aj-0GZ4-bSdU"
      },
      "source": [
        "travel_log = {'country_1':{'city_c1':['city_11','city_12','city_13','city_14'],'total_visit':5},\n",
        "              'country_2':{'city_c2':['city_21','city_22','city_23','city_24'],'total_visit':10},\n",
        "              'country_3':{'city_c3':['city_31','city_32','city_33','city_34'],'total_visit':15}}"
      ],
      "execution_count": 71,
      "outputs": []
    },
    {
      "cell_type": "code",
      "metadata": {
        "colab": {
          "base_uri": "https://localhost:8080/"
        },
        "id": "EZBHidlvkLnv",
        "outputId": "7f11e326-60e3-40d2-94d7-e1f6d23e6e4d"
      },
      "source": [
        "count = 0\n",
        "country_visited = []\n",
        "\n",
        "for key in travel_log:\n",
        "  count += 1\n",
        "  country_visited.append(key)\n",
        "\n",
        "print(\"total countries visited :\",count)\n",
        "print(\"\\nname of countries visited :\",country_visited)\n",
        "\n",
        "for i in range(len(country_visited)):\n",
        "  print(\"\\ndetail of :\", country_visited[i])\n",
        "  print(f\"city visited in, {country_visited[i]} : {travel_log[country_visited[i]]['city_c'+str(i+1)]}\")\n",
        "  print(f\"total visit to {country_visited[i]} : {travel_log[country_visited[i]]['total_visit']}\")"
      ],
      "execution_count": 72,
      "outputs": [
        {
          "output_type": "stream",
          "name": "stdout",
          "text": [
            "total countries visited : 3\n",
            "\n",
            "name of countries visited : ['country_1', 'country_2', 'country_3']\n",
            "\n",
            "detail of : country_1\n",
            "city visited in, country_1 : ['city_11', 'city_12', 'city_13', 'city_14']\n",
            "total visit to country_1 : 5\n",
            "\n",
            "detail of : country_2\n",
            "city visited in, country_2 : ['city_21', 'city_22', 'city_23', 'city_24']\n",
            "total visit to country_2 : 10\n",
            "\n",
            "detail of : country_3\n",
            "city visited in, country_3 : ['city_31', 'city_32', 'city_33', 'city_34']\n",
            "total visit to country_3 : 15\n"
          ]
        }
      ]
    },
    {
      "cell_type": "code",
      "metadata": {
        "id": "TPs9EKi5m_Do"
      },
      "source": [
        "def update_travel_log(country, city_visited, total_visits):\n",
        "  travel_log[country] = {'city_c4' : city_visited, 'total_visits' : total_visits}\n",
        "  "
      ],
      "execution_count": 73,
      "outputs": []
    },
    {
      "cell_type": "code",
      "metadata": {
        "id": "VFZlzuwb4QZ7"
      },
      "source": [
        "update_travel_log('country_4', ['city', 'city'], 6)"
      ],
      "execution_count": 77,
      "outputs": []
    },
    {
      "cell_type": "code",
      "metadata": {
        "id": "--Xz8rEO4lwm"
      },
      "source": [
        "country = 'country_5'\n",
        "travel_log[country] = \"france\""
      ],
      "execution_count": 78,
      "outputs": []
    },
    {
      "cell_type": "code",
      "metadata": {
        "colab": {
          "base_uri": "https://localhost:8080/"
        },
        "id": "KE7BTxL05BF9",
        "outputId": "eb52f42d-e144-48cf-99c8-904ae91981b5"
      },
      "source": [
        "travel_log"
      ],
      "execution_count": 79,
      "outputs": [
        {
          "output_type": "execute_result",
          "data": {
            "text/plain": [
              "{'country_1': {'city_c1': ['city_11', 'city_12', 'city_13', 'city_14'],\n",
              "  'total_visit': 5},\n",
              " 'country_2': {'city_c2': ['city_21', 'city_22', 'city_23', 'city_24'],\n",
              "  'total_visit': 10},\n",
              " 'country_3': {'city_c3': ['city_31', 'city_32', 'city_33', 'city_34'],\n",
              "  'total_visit': 15},\n",
              " 'country_4': {'city_c4': ['city', 'city'], 'total_visits': 6},\n",
              " 'country_5': 'france'}"
            ]
          },
          "metadata": {},
          "execution_count": 79
        }
      ]
    },
    {
      "cell_type": "code",
      "metadata": {
        "id": "8uz9qSRQ5DAm"
      },
      "source": [
        ""
      ],
      "execution_count": null,
      "outputs": []
    }
  ]
}