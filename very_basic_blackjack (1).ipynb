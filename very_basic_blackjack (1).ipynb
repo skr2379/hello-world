{
  "nbformat": 4,
  "nbformat_minor": 0,
  "metadata": {
    "colab": {
      "name": "very_basic_blackjack.ipynb",
      "provenance": []
    },
    "kernelspec": {
      "name": "python3",
      "display_name": "Python 3"
    },
    "language_info": {
      "name": "python"
    }
  },
  "cells": [
    {
      "cell_type": "markdown",
      "metadata": {
        "id": "GgxX6w9HkE7S"
      },
      "source": [
        "Black Jack"
      ]
    },
    {
      "cell_type": "code",
      "metadata": {
        "id": "d5RG9cwTkzX1"
      },
      "source": [
        "import random"
      ],
      "execution_count": 49,
      "outputs": []
    },
    {
      "cell_type": "code",
      "metadata": {
        "id": "0dGDItP4k3U5"
      },
      "source": [
        "def gen_card():\n",
        "  suite = [\"hearts\", \"diamonds\", \"club\", \"spade\"]\n",
        "  ranks_scores = {\"Ace\":11,\"Two\":2,\"Three\":3,\"Four\":4,\"Five\":5,\"Six\":6,\\\n",
        "                  \"Seven\":7,\"Eight\":8,\"Nine\":9,\"Jack\":10,\"Queen\":10,\"King\":10}\n",
        "  r_suite = random.choice(suite)\n",
        "  keys = []\n",
        "  for key in ranks_scores:\n",
        "    keys.append(key)\n",
        "  r_ranks = random.choice(keys)\n",
        "  card = r_ranks +\" of \"+ r_suite\n",
        "  score = ranks_scores[r_ranks]\n",
        "  return card, score  "
      ],
      "execution_count": 50,
      "outputs": []
    },
    {
      "cell_type": "code",
      "metadata": {
        "colab": {
          "base_uri": "https://localhost:8080/"
        },
        "id": "DEwPhvBfsIAx",
        "outputId": "266f5bdf-6624-4b28-81ec-16660edf139e"
      },
      "source": [
        "print(\"~~~~~~~~welcome to game of Black Jack~~~~~~~~~~~~~~~~~~~~~\")"
      ],
      "execution_count": 51,
      "outputs": [
        {
          "output_type": "stream",
          "name": "stdout",
          "text": [
            "~~~~~~~~welcome to game of Black Jack~~~~~~~~~~~~~~~~~~~~~\n"
          ]
        }
      ]
    },
    {
      "cell_type": "code",
      "metadata": {
        "colab": {
          "base_uri": "https://localhost:8080/"
        },
        "id": "Nwjv1ahHlXEx",
        "outputId": "4b5a1f99-8e72-4657-bb0e-440700458efc"
      },
      "source": [
        "\n",
        "user_cards = []\n",
        "score_u = 0\n",
        "user_cards.append(gen_card())\n",
        "user_cards.append(gen_card())\n",
        "\n",
        "print(user_cards)\n",
        "for a, b in user_cards:\n",
        "  score_u = score_u + b\n",
        "user_score = score_u\n",
        "user_score"
      ],
      "execution_count": 52,
      "outputs": [
        {
          "output_type": "stream",
          "name": "stdout",
          "text": [
            "[('Seven of spade', 7), ('Five of spade', 5)]\n"
          ]
        },
        {
          "output_type": "execute_result",
          "data": {
            "text/plain": [
              "12"
            ]
          },
          "metadata": {},
          "execution_count": 52
        }
      ]
    },
    {
      "cell_type": "code",
      "metadata": {
        "colab": {
          "base_uri": "https://localhost:8080/"
        },
        "id": "VgV6zXgt1OwS",
        "outputId": "c0e5703e-e22c-487f-c967-11b02f14feae"
      },
      "source": [
        "\n",
        "dealer_cards = []\n",
        "score_d = 0\n",
        "dealer_cards.append(gen_card())\n",
        "\n",
        "print(f\"dealer hans is : {dealer_cards}\")\n",
        "\n",
        "choice = input(\"offer for user to draw another card: y/n------ \")\n",
        "if choice == 'n':\n",
        "  dealer_cards.append(gen_card())\n",
        "  print(dealer_cards)\n",
        "  for a,b in dealer_cards:\n",
        "    score_d = score_d + b\n",
        "  dealer_score = score_d\n",
        "elif choice == 'y':\n",
        "  score_u = 0\n",
        "  dealer_score = 0\n",
        "  # print(\"user score \", user_score)\n",
        "  user_cards.append(gen_card())\n",
        "  dealer_cards.append(gen_card())\n",
        "  print(f\"user hans is : {user_cards}\")\n",
        "  print(f\"dealer hand is : {dealer_cards}\")\n",
        "\n",
        "  for a, b in user_cards:\n",
        "    score_u = score_u + b\n",
        "    user_score = score_u\n",
        "\n",
        "  for a, b in dealer_cards:\n",
        "    score_d = score_d + b\n",
        "    dealer_score = score_d\n",
        "  \n",
        "print(f\"dealer score is : {dealer_score}\") \n",
        "print(f\"user score is : {user_score}\")"
      ],
      "execution_count": 53,
      "outputs": [
        {
          "output_type": "stream",
          "name": "stdout",
          "text": [
            "dealer hans is : [('Ace of club', 11)]\n",
            "offer for user to draw another card: y/n------ y\n",
            "user score  12\n",
            "user hans is : [('Seven of spade', 7), ('Five of spade', 5), ('Six of diamonds', 6)]\n",
            "dealer hand is : [('Ace of club', 11), ('Two of hearts', 2)]\n",
            "dealer score is : 13\n",
            "user score is : 18\n"
          ]
        }
      ]
    },
    {
      "cell_type": "code",
      "metadata": {
        "colab": {
          "base_uri": "https://localhost:8080/"
        },
        "id": "N7xEBHmFyvIR",
        "outputId": "a20198ee-30c7-4ef1-acfb-b24a6befce54"
      },
      "source": [
        "if user_score <=21 and user_score > dealer_score :\n",
        "  print(\"user wins\")\n",
        "elif dealer_score <=21 and user_score < dealer_score :\n",
        "  print(\"dealer wins\")\n",
        "elif dealer_score >21:\n",
        "  print(\"dealer bust, user wins\")\n",
        "elif user_score >21:\n",
        "  print(\"user bust, dealer wins\")\n",
        "else:\n",
        "  print(\"game tie, no result\")"
      ],
      "execution_count": 42,
      "outputs": [
        {
          "output_type": "stream",
          "name": "stdout",
          "text": [
            "dealer wins\n"
          ]
        }
      ]
    },
    {
      "cell_type": "code",
      "metadata": {
        "id": "jXbStfu72899"
      },
      "source": [
        ""
      ],
      "execution_count": null,
      "outputs": []
    }
  ]
}