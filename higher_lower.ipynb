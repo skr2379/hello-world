{
  "nbformat": 4,
  "nbformat_minor": 0,
  "metadata": {
    "colab": {
      "name": "higher_lower.ipynb",
      "provenance": []
    },
    "kernelspec": {
      "name": "python3",
      "display_name": "Python 3"
    },
    "language_info": {
      "name": "python"
    }
  },
  "cells": [
    {
      "cell_type": "code",
      "metadata": {
        "id": "5SCNOyUaeeM2"
      },
      "source": [
        "higher_lower"
      ],
      "execution_count": null,
      "outputs": []
    },
    {
      "cell_type": "code",
      "metadata": {
        "id": "2LfF4kx2hARM"
      },
      "source": [
        "# data record required for the game\n",
        "data = [\n",
        "    {'name': 'Instagram','follower_count': 346,'description': 'Social media platform','country': 'United States'},\n",
        "    {'name': 'Cristiano Ronaldo','follower_count': 215,'description': 'Footballer','country': 'Portugal'},\n",
        "    {'name': 'Ariana Grande','follower_count': 183,'description': 'Musician and actress','country': 'United States'},\n",
        "    {'name': 'Dwayne Johnson','follower_count': 181,'description': 'Actor and professional wrestler','country': 'United States'},\n",
        "    {'name': 'Selena Gomez','follower_count': 174,'description': 'Musician and actress','country': 'United States'},\n",
        "    {'name': 'Kylie Jenner','follower_count': 172,'description': 'TV personality, businesswoman and Self-Made Billionaire','country': 'United States'},\n",
        "    {'name': 'Kim Kardashian','follower_count': 167,'description': 'Reality TV personality and businesswoman','country': 'United States'},\n",
        "    {'name': 'Lionel Messi','follower_count': 149,'description': 'Footballer','country': 'Argentina'},\n",
        "    {'name': 'Beyoncé','follower_count': 145,'description': 'Musician','country': 'United States'},\n",
        "    {'name': 'Neymar','follower_count': 138,'description': 'Footballer','country': 'Brasil'},\n",
        "    { 'name': 'National Geographic','follower_count': 135,   'description': 'Magazine',  'country': 'United States' },\n",
        "    { 'name': 'Justin Bieber', 'follower_count': 133, 'description': 'Musician', 'country': 'Canada' },\n",
        "    {'name': 'Taylor Swift','follower_count': 131,'description': 'Musician','country': 'United States'},\n",
        "    {'name': 'Kendall Jenner','follower_count': 127,'description': 'Reality TV personality and Model','country': 'United States' },\n",
        "    {'name': 'Jennifer Lopez','follower_count': 119, 'description': 'Musician and actress', 'country': 'United States' },\n",
        "    {'name': 'Nicki Minaj','follower_count': 113, 'description': 'Musician','country': 'Trinidad and Tobago'},\n",
        "    { 'name': 'Nike','follower_count': 109,'description': 'Sportswear multinational','country': 'United States'},\n",
        "    {'name': 'Khloé Kardashian','follower_count': 108,'description': 'Reality TV personality and businesswoman','country': 'United States'},\n",
        "    {'name': 'Miley Cyrus','follower_count': 107,'description': 'Musician and actress','country': 'United States'},\n",
        "    {'name': 'Katy Perry','follower_count': 94,'description': 'Musician','country': 'United States'},\n",
        "    {'name': 'Kourtney Kardashian','follower_count': 90,'description': 'Reality TV personality','country': 'United States' },\n",
        "    {'name': 'Kevin Hart','follower_count': 89,'description': 'Comedian and actor','country': 'United States'},\n",
        "    {'name': 'Ellen DeGeneres','follower_count': 87,'description': 'Comedian','country': 'United States'},\n",
        "    {'name': 'Real Madrid CF', 'follower_count': 86,'description': 'Football club','country': 'Spain' },\n",
        "    { 'name': 'FC Barcelona','follower_count': 85,'description': 'Football club','country': 'Spain' },\n",
        "    { 'name': 'Rihanna', 'follower_count': 81,'description': 'Musician and businesswoman','country': 'Barbados' },\n",
        "    { 'name': 'Demi Lovato', 'follower_count': 80,'description': 'Musician and actress','country': 'United States'},\n",
        "    {'name': \"Victoria's Secret\",'follower_count': 69,'description': 'Lingerie brand', 'country': 'United States' },\n",
        "    { 'name': 'Zendaya','follower_count': 68, 'description': 'Actress and musician','country': 'United States'},\n",
        "    {'name': 'Shakira','follower_count': 66,'description': 'Musician','country': 'Colombia'},\n",
        "    { 'name': 'Drake','follower_count': 65, 'description': 'Musician', 'country': 'Canada'},\n",
        "    {'name': 'Chris Brown','follower_count': 64,'description': 'Musician', 'country': 'United States'},\n",
        "    { 'name': 'LeBron James','follower_count': 63,'description': 'Basketball player', 'country': 'United States'},\n",
        "    {'name': 'Vin Diesel','follower_count': 62, 'description': 'Actor', 'country': 'United States'},\n",
        "    { 'name': 'Cardi B',  'follower_count': 67,'description': 'Musician', 'country': 'United States'},\n",
        "    { 'name': 'David Beckham', 'follower_count': 82, 'description': 'Footballer', 'country': 'United Kingdom'},\n",
        "    { 'name': 'Billie Eilish', 'follower_count': 61, 'description': 'Musician', 'country': 'United States'},\n",
        "    { 'name': 'Justin Timberlake', 'follower_count': 59, 'description': 'Musician and actor','country': 'United States'},\n",
        "    {'name': 'UEFA Champions League','follower_count': 58,'description': 'Club football competition', 'country': 'Europe'},\n",
        "    {'name': 'NASA','follower_count': 56,'description': 'Space agency','country': 'United States'},\n",
        "    {'name': 'Emma Watson','follower_count': 56,'description': 'Actress','country': 'United Kingdom'},\n",
        "    { 'name': 'Shawn Mendes', 'follower_count': 57, 'description': 'Musician',  'country': 'Canada' },\n",
        "    { 'name': 'Virat Kohli', 'follower_count': 55, 'description': 'Cricketer', 'country': 'India' },\n",
        "    {'name': 'Gigi Hadid','follower_count': 54, 'description': 'Model','country': 'United States'},\n",
        "    {'name': 'Priyanka Chopra Jonas','follower_count': 53,'description': 'Actress and musician','country': 'India'},\n",
        "    {'name': '9GAG','follower_count': 52,'description': 'Social media platform','country': 'China'},\n",
        "    {'name': 'Ronaldinho','follower_count': 51, 'description': 'Footballer','country': 'Brasil'},\n",
        "    {'name': 'Maluma','follower_count': 50,'description': 'Musician','country': 'Colombia' },\n",
        "    {'name': 'Camila Cabello','follower_count': 49,'description': 'Musician','country': 'Cuba'},\n",
        "    {'name': 'NBA', 'follower_count': 47, 'description': 'Club Basketball Competition', 'country': 'United States' }\n",
        "]\n"
      ],
      "execution_count": 1,
      "outputs": []
    },
    {
      "cell_type": "code",
      "metadata": {
        "id": "VD3p28k8iHyQ"
      },
      "source": [
        "keys = []     # empty list created\n",
        "\n",
        "# loop for appending name of celebrities in \"Keys\" list\n",
        "\n",
        "for i in range(len(data)):\n",
        "  keys.append(data[i]['name'])\n",
        "# keys"
      ],
      "execution_count": 28,
      "outputs": []
    },
    {
      "cell_type": "code",
      "metadata": {
        "id": "z5VVRhe8iekT"
      },
      "source": [
        "# inbuilt random module imported\n",
        "\n",
        "import random"
      ],
      "execution_count": 4,
      "outputs": []
    },
    {
      "cell_type": "code",
      "metadata": {
        "id": "jJ1eo_I7mstC",
        "colab": {
          "base_uri": "https://localhost:8080/"
        },
        "outputId": "efec510f-caed-49df-ecc6-61061bc74c4c"
      },
      "source": [
        "game = True\n",
        "score = 0                                 # score intialize to zero\n",
        "celeb1 = random.choice(keys)              # first celebrity chose randomly from data\n",
        "\n",
        "# loop which runs continously untill player looses\n",
        "\n",
        "while game == True:\n",
        "  celeb2 = random.choice(keys)             # second celebrity chose randomly from data\n",
        "\n",
        "  for i in range(len(data)):               # loop to extract description and follower count of chosen celebrities\n",
        "    if data[i]['name']  == celeb1:\n",
        "      desc_celeb1 = data[i]['description']\n",
        "      follower_celeb1 = data[i]['follower_count']\n",
        "    elif data[i]['name'] == celeb2:\n",
        "      desc_celeb2 = data[i]['description']\n",
        "      follower_celeb2 = data[i]['follower_count']\n",
        "\n",
        "  # print(f\"{celeb1},{desc_celeb1} with {follower_celeb1} millions followers\")\n",
        "  # print(f\"{celeb2},{desc_celeb2} with {follower_celeb2} millions followers\")\n",
        "\n",
        "  print(f\"{celeb1} is a {desc_celeb1}\")\n",
        "  print(f\"{celeb2} is a {desc_celeb2}\")\n",
        "  \n",
        "  if follower_celeb2 > follower_celeb1:                  # condition applied to check who is the winner\n",
        "    #print(follower_celeb1, follower_celeb2)\n",
        "    winner = celeb2.lower()\n",
        "  else:\n",
        "    #print(follower_celeb1, follower_celeb2)\n",
        "    winner = celeb1.lower()\n",
        "\n",
        "  guess = input(f\"which has more value {celeb1} or {celeb2}:\\t\").lower()         # user prompt to enter his choice between two celebrities\n",
        "  # print(guess)\n",
        "  if (guess == winner):                              # condition to check if user make a right choice or not\n",
        "                                                 \n",
        "      print(\"you win\")\n",
        "      score+=1                                       # if user choice is right the score incremented\n",
        "      celeb1 = celeb2\n",
        "      \n",
        "  else:\n",
        "    print(\"you loose\")\n",
        "    game = False                                     # if user choice is wrong the game loop ends here\n",
        "\n",
        "print(\"your score :\",score)                          # prints the final score\n"
      ],
      "execution_count": 27,
      "outputs": [
        {
          "output_type": "stream",
          "name": "stdout",
          "text": [
            "Kendall Jenner is a Reality TV personality and Model\n",
            "David Beckham is a Footballer\n",
            "which has more value Kendall Jenner or David Beckham:\tf\n",
            "you loose\n",
            "your score : 0\n"
          ]
        }
      ]
    },
    {
      "cell_type": "code",
      "metadata": {
        "id": "PpUhEG8L0f99"
      },
      "source": [
        ""
      ],
      "execution_count": null,
      "outputs": []
    }
  ]
}